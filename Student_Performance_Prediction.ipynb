{
  "nbformat": 4,
  "nbformat_minor": 0,
  "metadata": {
    "colab": {
      "provenance": [],
      "include_colab_link": true
    },
    "kernelspec": {
      "name": "python3",
      "display_name": "Python 3"
    },
    "language_info": {
      "name": "python"
    }
  },
  "cells": [
    {
      "cell_type": "markdown",
      "metadata": {
        "id": "view-in-github",
        "colab_type": "text"
      },
      "source": [
        "<a href=\"https://colab.research.google.com/github/shivani270604/AIML/blob/main/Student_Performance_Prediction.ipynb\" target=\"_parent\"><img src=\"https://colab.research.google.com/assets/colab-badge.svg\" alt=\"Open In Colab\"/></a>"
      ]
    },
    {
      "cell_type": "markdown",
      "source": [
        "**Reading Data**"
      ],
      "metadata": {
        "id": "0ko5akugpiLH"
      }
    },
    {
      "cell_type": "code",
      "execution_count": null,
      "metadata": {
        "id": "iN4BwHY9oPGX"
      },
      "outputs": [],
      "source": [
        "import numpy as np\n",
        "import pandas as pd\n",
        "import seaborn as sns\n",
        "import matplotlib.pyplot as plt\n",
        "from time import time\n",
        "from sklearn.linear_model import LogisticRegression\n",
        "from sklearn.neighbors import KNeighborsClassifier\n",
        "from sklearn.svm import SVC\n",
        "from sklearn.model_selection import train_test_split,GridSearchCV\n",
        "from sklearn.metrics import confusion_matrix, roc_curve, accuracy_score, f1_score, roc_auc_score, classification_report\n",
        "from astropy.table import Table\n",
        "from sklearn.metrics import roc_auc_score\n",
        "\n",
        "df = pd.read_csv('/content/student-data.csv')\n",
        "dfv = pd.read_csv('/content/student-data.csv')"
      ]
    },
    {
      "cell_type": "markdown",
      "source": [
        "**Display Dataset**"
      ],
      "metadata": {
        "id": "bbc_TDiOpoG8"
      }
    },
    {
      "cell_type": "code",
      "source": [
        "df"
      ],
      "metadata": {
        "colab": {
          "base_uri": "https://localhost:8080/",
          "height": 443
        },
        "id": "Oh7PxdoSpK4V",
        "outputId": "3e4df87f-7b43-4a3f-b49c-f74a7fb46151"
      },
      "execution_count": null,
      "outputs": [
        {
          "output_type": "execute_result",
          "data": {
            "text/plain": [
              "    school sex  age address famsize Pstatus  Medu  Fedu      Mjob      Fjob  \\\n",
              "0       GP   F   18       U     GT3       A     4     4   at_home   teacher   \n",
              "1       GP   F   17       U     GT3       T     1     1   at_home     other   \n",
              "2       GP   F   15       U     LE3       T     1     1   at_home     other   \n",
              "3       GP   F   15       U     GT3       T     4     2    health  services   \n",
              "4       GP   F   16       U     GT3       T     3     3     other     other   \n",
              "..     ...  ..  ...     ...     ...     ...   ...   ...       ...       ...   \n",
              "390     MS   M   20       U     LE3       A     2     2  services  services   \n",
              "391     MS   M   17       U     LE3       T     3     1  services  services   \n",
              "392     MS   M   21       R     GT3       T     1     1     other     other   \n",
              "393     MS   M   18       R     LE3       T     3     2  services     other   \n",
              "394     MS   M   19       U     LE3       T     1     1     other   at_home   \n",
              "\n",
              "     ... internet romantic  famrel  freetime  goout Dalc Walc health absences  \\\n",
              "0    ...       no       no       4         3      4    1    1      3        6   \n",
              "1    ...      yes       no       5         3      3    1    1      3        4   \n",
              "2    ...      yes       no       4         3      2    2    3      3       10   \n",
              "3    ...      yes      yes       3         2      2    1    1      5        2   \n",
              "4    ...       no       no       4         3      2    1    2      5        4   \n",
              "..   ...      ...      ...     ...       ...    ...  ...  ...    ...      ...   \n",
              "390  ...       no       no       5         5      4    4    5      4       11   \n",
              "391  ...      yes       no       2         4      5    3    4      2        3   \n",
              "392  ...       no       no       5         5      3    3    3      3        3   \n",
              "393  ...      yes       no       4         4      1    3    4      5        0   \n",
              "394  ...      yes       no       3         2      3    3    3      5        5   \n",
              "\n",
              "    passed  \n",
              "0       no  \n",
              "1       no  \n",
              "2      yes  \n",
              "3      yes  \n",
              "4      yes  \n",
              "..     ...  \n",
              "390     no  \n",
              "391    yes  \n",
              "392     no  \n",
              "393    yes  \n",
              "394     no  \n",
              "\n",
              "[395 rows x 31 columns]"
            ],
            "text/html": [
              "\n",
              "  <div id=\"df-871a9ba0-875a-408a-aeee-79d96e4530dc\" class=\"colab-df-container\">\n",
              "    <div>\n",
              "<style scoped>\n",
              "    .dataframe tbody tr th:only-of-type {\n",
              "        vertical-align: middle;\n",
              "    }\n",
              "\n",
              "    .dataframe tbody tr th {\n",
              "        vertical-align: top;\n",
              "    }\n",
              "\n",
              "    .dataframe thead th {\n",
              "        text-align: right;\n",
              "    }\n",
              "</style>\n",
              "<table border=\"1\" class=\"dataframe\">\n",
              "  <thead>\n",
              "    <tr style=\"text-align: right;\">\n",
              "      <th></th>\n",
              "      <th>school</th>\n",
              "      <th>sex</th>\n",
              "      <th>age</th>\n",
              "      <th>address</th>\n",
              "      <th>famsize</th>\n",
              "      <th>Pstatus</th>\n",
              "      <th>Medu</th>\n",
              "      <th>Fedu</th>\n",
              "      <th>Mjob</th>\n",
              "      <th>Fjob</th>\n",
              "      <th>...</th>\n",
              "      <th>internet</th>\n",
              "      <th>romantic</th>\n",
              "      <th>famrel</th>\n",
              "      <th>freetime</th>\n",
              "      <th>goout</th>\n",
              "      <th>Dalc</th>\n",
              "      <th>Walc</th>\n",
              "      <th>health</th>\n",
              "      <th>absences</th>\n",
              "      <th>passed</th>\n",
              "    </tr>\n",
              "  </thead>\n",
              "  <tbody>\n",
              "    <tr>\n",
              "      <th>0</th>\n",
              "      <td>GP</td>\n",
              "      <td>F</td>\n",
              "      <td>18</td>\n",
              "      <td>U</td>\n",
              "      <td>GT3</td>\n",
              "      <td>A</td>\n",
              "      <td>4</td>\n",
              "      <td>4</td>\n",
              "      <td>at_home</td>\n",
              "      <td>teacher</td>\n",
              "      <td>...</td>\n",
              "      <td>no</td>\n",
              "      <td>no</td>\n",
              "      <td>4</td>\n",
              "      <td>3</td>\n",
              "      <td>4</td>\n",
              "      <td>1</td>\n",
              "      <td>1</td>\n",
              "      <td>3</td>\n",
              "      <td>6</td>\n",
              "      <td>no</td>\n",
              "    </tr>\n",
              "    <tr>\n",
              "      <th>1</th>\n",
              "      <td>GP</td>\n",
              "      <td>F</td>\n",
              "      <td>17</td>\n",
              "      <td>U</td>\n",
              "      <td>GT3</td>\n",
              "      <td>T</td>\n",
              "      <td>1</td>\n",
              "      <td>1</td>\n",
              "      <td>at_home</td>\n",
              "      <td>other</td>\n",
              "      <td>...</td>\n",
              "      <td>yes</td>\n",
              "      <td>no</td>\n",
              "      <td>5</td>\n",
              "      <td>3</td>\n",
              "      <td>3</td>\n",
              "      <td>1</td>\n",
              "      <td>1</td>\n",
              "      <td>3</td>\n",
              "      <td>4</td>\n",
              "      <td>no</td>\n",
              "    </tr>\n",
              "    <tr>\n",
              "      <th>2</th>\n",
              "      <td>GP</td>\n",
              "      <td>F</td>\n",
              "      <td>15</td>\n",
              "      <td>U</td>\n",
              "      <td>LE3</td>\n",
              "      <td>T</td>\n",
              "      <td>1</td>\n",
              "      <td>1</td>\n",
              "      <td>at_home</td>\n",
              "      <td>other</td>\n",
              "      <td>...</td>\n",
              "      <td>yes</td>\n",
              "      <td>no</td>\n",
              "      <td>4</td>\n",
              "      <td>3</td>\n",
              "      <td>2</td>\n",
              "      <td>2</td>\n",
              "      <td>3</td>\n",
              "      <td>3</td>\n",
              "      <td>10</td>\n",
              "      <td>yes</td>\n",
              "    </tr>\n",
              "    <tr>\n",
              "      <th>3</th>\n",
              "      <td>GP</td>\n",
              "      <td>F</td>\n",
              "      <td>15</td>\n",
              "      <td>U</td>\n",
              "      <td>GT3</td>\n",
              "      <td>T</td>\n",
              "      <td>4</td>\n",
              "      <td>2</td>\n",
              "      <td>health</td>\n",
              "      <td>services</td>\n",
              "      <td>...</td>\n",
              "      <td>yes</td>\n",
              "      <td>yes</td>\n",
              "      <td>3</td>\n",
              "      <td>2</td>\n",
              "      <td>2</td>\n",
              "      <td>1</td>\n",
              "      <td>1</td>\n",
              "      <td>5</td>\n",
              "      <td>2</td>\n",
              "      <td>yes</td>\n",
              "    </tr>\n",
              "    <tr>\n",
              "      <th>4</th>\n",
              "      <td>GP</td>\n",
              "      <td>F</td>\n",
              "      <td>16</td>\n",
              "      <td>U</td>\n",
              "      <td>GT3</td>\n",
              "      <td>T</td>\n",
              "      <td>3</td>\n",
              "      <td>3</td>\n",
              "      <td>other</td>\n",
              "      <td>other</td>\n",
              "      <td>...</td>\n",
              "      <td>no</td>\n",
              "      <td>no</td>\n",
              "      <td>4</td>\n",
              "      <td>3</td>\n",
              "      <td>2</td>\n",
              "      <td>1</td>\n",
              "      <td>2</td>\n",
              "      <td>5</td>\n",
              "      <td>4</td>\n",
              "      <td>yes</td>\n",
              "    </tr>\n",
              "    <tr>\n",
              "      <th>...</th>\n",
              "      <td>...</td>\n",
              "      <td>...</td>\n",
              "      <td>...</td>\n",
              "      <td>...</td>\n",
              "      <td>...</td>\n",
              "      <td>...</td>\n",
              "      <td>...</td>\n",
              "      <td>...</td>\n",
              "      <td>...</td>\n",
              "      <td>...</td>\n",
              "      <td>...</td>\n",
              "      <td>...</td>\n",
              "      <td>...</td>\n",
              "      <td>...</td>\n",
              "      <td>...</td>\n",
              "      <td>...</td>\n",
              "      <td>...</td>\n",
              "      <td>...</td>\n",
              "      <td>...</td>\n",
              "      <td>...</td>\n",
              "      <td>...</td>\n",
              "    </tr>\n",
              "    <tr>\n",
              "      <th>390</th>\n",
              "      <td>MS</td>\n",
              "      <td>M</td>\n",
              "      <td>20</td>\n",
              "      <td>U</td>\n",
              "      <td>LE3</td>\n",
              "      <td>A</td>\n",
              "      <td>2</td>\n",
              "      <td>2</td>\n",
              "      <td>services</td>\n",
              "      <td>services</td>\n",
              "      <td>...</td>\n",
              "      <td>no</td>\n",
              "      <td>no</td>\n",
              "      <td>5</td>\n",
              "      <td>5</td>\n",
              "      <td>4</td>\n",
              "      <td>4</td>\n",
              "      <td>5</td>\n",
              "      <td>4</td>\n",
              "      <td>11</td>\n",
              "      <td>no</td>\n",
              "    </tr>\n",
              "    <tr>\n",
              "      <th>391</th>\n",
              "      <td>MS</td>\n",
              "      <td>M</td>\n",
              "      <td>17</td>\n",
              "      <td>U</td>\n",
              "      <td>LE3</td>\n",
              "      <td>T</td>\n",
              "      <td>3</td>\n",
              "      <td>1</td>\n",
              "      <td>services</td>\n",
              "      <td>services</td>\n",
              "      <td>...</td>\n",
              "      <td>yes</td>\n",
              "      <td>no</td>\n",
              "      <td>2</td>\n",
              "      <td>4</td>\n",
              "      <td>5</td>\n",
              "      <td>3</td>\n",
              "      <td>4</td>\n",
              "      <td>2</td>\n",
              "      <td>3</td>\n",
              "      <td>yes</td>\n",
              "    </tr>\n",
              "    <tr>\n",
              "      <th>392</th>\n",
              "      <td>MS</td>\n",
              "      <td>M</td>\n",
              "      <td>21</td>\n",
              "      <td>R</td>\n",
              "      <td>GT3</td>\n",
              "      <td>T</td>\n",
              "      <td>1</td>\n",
              "      <td>1</td>\n",
              "      <td>other</td>\n",
              "      <td>other</td>\n",
              "      <td>...</td>\n",
              "      <td>no</td>\n",
              "      <td>no</td>\n",
              "      <td>5</td>\n",
              "      <td>5</td>\n",
              "      <td>3</td>\n",
              "      <td>3</td>\n",
              "      <td>3</td>\n",
              "      <td>3</td>\n",
              "      <td>3</td>\n",
              "      <td>no</td>\n",
              "    </tr>\n",
              "    <tr>\n",
              "      <th>393</th>\n",
              "      <td>MS</td>\n",
              "      <td>M</td>\n",
              "      <td>18</td>\n",
              "      <td>R</td>\n",
              "      <td>LE3</td>\n",
              "      <td>T</td>\n",
              "      <td>3</td>\n",
              "      <td>2</td>\n",
              "      <td>services</td>\n",
              "      <td>other</td>\n",
              "      <td>...</td>\n",
              "      <td>yes</td>\n",
              "      <td>no</td>\n",
              "      <td>4</td>\n",
              "      <td>4</td>\n",
              "      <td>1</td>\n",
              "      <td>3</td>\n",
              "      <td>4</td>\n",
              "      <td>5</td>\n",
              "      <td>0</td>\n",
              "      <td>yes</td>\n",
              "    </tr>\n",
              "    <tr>\n",
              "      <th>394</th>\n",
              "      <td>MS</td>\n",
              "      <td>M</td>\n",
              "      <td>19</td>\n",
              "      <td>U</td>\n",
              "      <td>LE3</td>\n",
              "      <td>T</td>\n",
              "      <td>1</td>\n",
              "      <td>1</td>\n",
              "      <td>other</td>\n",
              "      <td>at_home</td>\n",
              "      <td>...</td>\n",
              "      <td>yes</td>\n",
              "      <td>no</td>\n",
              "      <td>3</td>\n",
              "      <td>2</td>\n",
              "      <td>3</td>\n",
              "      <td>3</td>\n",
              "      <td>3</td>\n",
              "      <td>5</td>\n",
              "      <td>5</td>\n",
              "      <td>no</td>\n",
              "    </tr>\n",
              "  </tbody>\n",
              "</table>\n",
              "<p>395 rows × 31 columns</p>\n",
              "</div>\n",
              "    <div class=\"colab-df-buttons\">\n",
              "\n",
              "  <div class=\"colab-df-container\">\n",
              "    <button class=\"colab-df-convert\" onclick=\"convertToInteractive('df-871a9ba0-875a-408a-aeee-79d96e4530dc')\"\n",
              "            title=\"Convert this dataframe to an interactive table.\"\n",
              "            style=\"display:none;\">\n",
              "\n",
              "  <svg xmlns=\"http://www.w3.org/2000/svg\" height=\"24px\" viewBox=\"0 -960 960 960\">\n",
              "    <path d=\"M120-120v-720h720v720H120Zm60-500h600v-160H180v160Zm220 220h160v-160H400v160Zm0 220h160v-160H400v160ZM180-400h160v-160H180v160Zm440 0h160v-160H620v160ZM180-180h160v-160H180v160Zm440 0h160v-160H620v160Z\"/>\n",
              "  </svg>\n",
              "    </button>\n",
              "\n",
              "  <style>\n",
              "    .colab-df-container {\n",
              "      display:flex;\n",
              "      gap: 12px;\n",
              "    }\n",
              "\n",
              "    .colab-df-convert {\n",
              "      background-color: #E8F0FE;\n",
              "      border: none;\n",
              "      border-radius: 50%;\n",
              "      cursor: pointer;\n",
              "      display: none;\n",
              "      fill: #1967D2;\n",
              "      height: 32px;\n",
              "      padding: 0 0 0 0;\n",
              "      width: 32px;\n",
              "    }\n",
              "\n",
              "    .colab-df-convert:hover {\n",
              "      background-color: #E2EBFA;\n",
              "      box-shadow: 0px 1px 2px rgba(60, 64, 67, 0.3), 0px 1px 3px 1px rgba(60, 64, 67, 0.15);\n",
              "      fill: #174EA6;\n",
              "    }\n",
              "\n",
              "    .colab-df-buttons div {\n",
              "      margin-bottom: 4px;\n",
              "    }\n",
              "\n",
              "    [theme=dark] .colab-df-convert {\n",
              "      background-color: #3B4455;\n",
              "      fill: #D2E3FC;\n",
              "    }\n",
              "\n",
              "    [theme=dark] .colab-df-convert:hover {\n",
              "      background-color: #434B5C;\n",
              "      box-shadow: 0px 1px 3px 1px rgba(0, 0, 0, 0.15);\n",
              "      filter: drop-shadow(0px 1px 2px rgba(0, 0, 0, 0.3));\n",
              "      fill: #FFFFFF;\n",
              "    }\n",
              "  </style>\n",
              "\n",
              "    <script>\n",
              "      const buttonEl =\n",
              "        document.querySelector('#df-871a9ba0-875a-408a-aeee-79d96e4530dc button.colab-df-convert');\n",
              "      buttonEl.style.display =\n",
              "        google.colab.kernel.accessAllowed ? 'block' : 'none';\n",
              "\n",
              "      async function convertToInteractive(key) {\n",
              "        const element = document.querySelector('#df-871a9ba0-875a-408a-aeee-79d96e4530dc');\n",
              "        const dataTable =\n",
              "          await google.colab.kernel.invokeFunction('convertToInteractive',\n",
              "                                                    [key], {});\n",
              "        if (!dataTable) return;\n",
              "\n",
              "        const docLinkHtml = 'Like what you see? Visit the ' +\n",
              "          '<a target=\"_blank\" href=https://colab.research.google.com/notebooks/data_table.ipynb>data table notebook</a>'\n",
              "          + ' to learn more about interactive tables.';\n",
              "        element.innerHTML = '';\n",
              "        dataTable['output_type'] = 'display_data';\n",
              "        await google.colab.output.renderOutput(dataTable, element);\n",
              "        const docLink = document.createElement('div');\n",
              "        docLink.innerHTML = docLinkHtml;\n",
              "        element.appendChild(docLink);\n",
              "      }\n",
              "    </script>\n",
              "  </div>\n",
              "\n",
              "\n",
              "<div id=\"df-64fa540f-822e-4d80-9d16-d53ce9ccba10\">\n",
              "  <button class=\"colab-df-quickchart\" onclick=\"quickchart('df-64fa540f-822e-4d80-9d16-d53ce9ccba10')\"\n",
              "            title=\"Suggest charts\"\n",
              "            style=\"display:none;\">\n",
              "\n",
              "<svg xmlns=\"http://www.w3.org/2000/svg\" height=\"24px\"viewBox=\"0 0 24 24\"\n",
              "     width=\"24px\">\n",
              "    <g>\n",
              "        <path d=\"M19 3H5c-1.1 0-2 .9-2 2v14c0 1.1.9 2 2 2h14c1.1 0 2-.9 2-2V5c0-1.1-.9-2-2-2zM9 17H7v-7h2v7zm4 0h-2V7h2v10zm4 0h-2v-4h2v4z\"/>\n",
              "    </g>\n",
              "</svg>\n",
              "  </button>\n",
              "\n",
              "<style>\n",
              "  .colab-df-quickchart {\n",
              "      --bg-color: #E8F0FE;\n",
              "      --fill-color: #1967D2;\n",
              "      --hover-bg-color: #E2EBFA;\n",
              "      --hover-fill-color: #174EA6;\n",
              "      --disabled-fill-color: #AAA;\n",
              "      --disabled-bg-color: #DDD;\n",
              "  }\n",
              "\n",
              "  [theme=dark] .colab-df-quickchart {\n",
              "      --bg-color: #3B4455;\n",
              "      --fill-color: #D2E3FC;\n",
              "      --hover-bg-color: #434B5C;\n",
              "      --hover-fill-color: #FFFFFF;\n",
              "      --disabled-bg-color: #3B4455;\n",
              "      --disabled-fill-color: #666;\n",
              "  }\n",
              "\n",
              "  .colab-df-quickchart {\n",
              "    background-color: var(--bg-color);\n",
              "    border: none;\n",
              "    border-radius: 50%;\n",
              "    cursor: pointer;\n",
              "    display: none;\n",
              "    fill: var(--fill-color);\n",
              "    height: 32px;\n",
              "    padding: 0;\n",
              "    width: 32px;\n",
              "  }\n",
              "\n",
              "  .colab-df-quickchart:hover {\n",
              "    background-color: var(--hover-bg-color);\n",
              "    box-shadow: 0 1px 2px rgba(60, 64, 67, 0.3), 0 1px 3px 1px rgba(60, 64, 67, 0.15);\n",
              "    fill: var(--button-hover-fill-color);\n",
              "  }\n",
              "\n",
              "  .colab-df-quickchart-complete:disabled,\n",
              "  .colab-df-quickchart-complete:disabled:hover {\n",
              "    background-color: var(--disabled-bg-color);\n",
              "    fill: var(--disabled-fill-color);\n",
              "    box-shadow: none;\n",
              "  }\n",
              "\n",
              "  .colab-df-spinner {\n",
              "    border: 2px solid var(--fill-color);\n",
              "    border-color: transparent;\n",
              "    border-bottom-color: var(--fill-color);\n",
              "    animation:\n",
              "      spin 1s steps(1) infinite;\n",
              "  }\n",
              "\n",
              "  @keyframes spin {\n",
              "    0% {\n",
              "      border-color: transparent;\n",
              "      border-bottom-color: var(--fill-color);\n",
              "      border-left-color: var(--fill-color);\n",
              "    }\n",
              "    20% {\n",
              "      border-color: transparent;\n",
              "      border-left-color: var(--fill-color);\n",
              "      border-top-color: var(--fill-color);\n",
              "    }\n",
              "    30% {\n",
              "      border-color: transparent;\n",
              "      border-left-color: var(--fill-color);\n",
              "      border-top-color: var(--fill-color);\n",
              "      border-right-color: var(--fill-color);\n",
              "    }\n",
              "    40% {\n",
              "      border-color: transparent;\n",
              "      border-right-color: var(--fill-color);\n",
              "      border-top-color: var(--fill-color);\n",
              "    }\n",
              "    60% {\n",
              "      border-color: transparent;\n",
              "      border-right-color: var(--fill-color);\n",
              "    }\n",
              "    80% {\n",
              "      border-color: transparent;\n",
              "      border-right-color: var(--fill-color);\n",
              "      border-bottom-color: var(--fill-color);\n",
              "    }\n",
              "    90% {\n",
              "      border-color: transparent;\n",
              "      border-bottom-color: var(--fill-color);\n",
              "    }\n",
              "  }\n",
              "</style>\n",
              "\n",
              "  <script>\n",
              "    async function quickchart(key) {\n",
              "      const quickchartButtonEl =\n",
              "        document.querySelector('#' + key + ' button');\n",
              "      quickchartButtonEl.disabled = true;  // To prevent multiple clicks.\n",
              "      quickchartButtonEl.classList.add('colab-df-spinner');\n",
              "      try {\n",
              "        const charts = await google.colab.kernel.invokeFunction(\n",
              "            'suggestCharts', [key], {});\n",
              "      } catch (error) {\n",
              "        console.error('Error during call to suggestCharts:', error);\n",
              "      }\n",
              "      quickchartButtonEl.classList.remove('colab-df-spinner');\n",
              "      quickchartButtonEl.classList.add('colab-df-quickchart-complete');\n",
              "    }\n",
              "    (() => {\n",
              "      let quickchartButtonEl =\n",
              "        document.querySelector('#df-64fa540f-822e-4d80-9d16-d53ce9ccba10 button');\n",
              "      quickchartButtonEl.style.display =\n",
              "        google.colab.kernel.accessAllowed ? 'block' : 'none';\n",
              "    })();\n",
              "  </script>\n",
              "</div>\n",
              "    </div>\n",
              "  </div>\n"
            ],
            "application/vnd.google.colaboratory.intrinsic+json": {
              "type": "dataframe",
              "variable_name": "df"
            }
          },
          "metadata": {},
          "execution_count": 18
        }
      ]
    },
    {
      "cell_type": "markdown",
      "source": [
        "**Data processing**"
      ],
      "metadata": {
        "id": "RKamAT8FpuMd"
      }
    },
    {
      "cell_type": "code",
      "source": [
        "# mapping strings to numeric values:\n",
        "def numerical_data():\n",
        "    df['school'] = df['school'].map({'GP': 0, 'MS': 1})\n",
        "    df['sex'] = df['sex'].map({'M': 0, 'F': 1})\n",
        "    df['address'] = df['address'].map({'U': 0, 'R': 1})\n",
        "    df['famsize'] = df['famsize'].map({'LE3': 0, 'GT3': 1})\n",
        "    df['Pstatus'] = df['Pstatus'].map({'T': 0, 'A': 1})\n",
        "    df['Mjob'] = df['Mjob'].map({'teacher': 0, 'health': 1, 'services': 2, 'at_home': 3, 'other': 4})\n",
        "    df['Fjob'] = df['Fjob'].map({'teacher': 0, 'health': 1, 'services': 2, 'at_home': 3, 'other': 4})\n",
        "    df['reason'] = df['reason'].map({'home': 0, 'reputation': 1, 'course': 2, 'other': 3})\n",
        "    df['guardian'] = df['guardian'].map({'mother': 0, 'father': 1, 'other': 2})\n",
        "    df['schoolsup'] = df['schoolsup'].map({'no': 0, 'yes': 1})\n",
        "    df['famsup'] = df['famsup'].map({'no': 0, 'yes': 1})\n",
        "    df['paid'] = df['paid'].map({'no': 0, 'yes': 1})\n",
        "    df['activities'] = df['activities'].map({'no': 0, 'yes': 1})\n",
        "    df['nursery'] = df['nursery'].map({'no': 0, 'yes': 1})\n",
        "    df['higher'] = df['higher'].map({'no': 0, 'yes': 1})\n",
        "    df['internet'] = df['internet'].map({'no': 0, 'yes': 1})\n",
        "    df['romantic'] = df['romantic'].map({'no': 0, 'yes' : 1})\n",
        "    df['passed'] = df['passed'].map({'no': 0, 'yes': 1})\n",
        "    # reorder dataframe columns :\n",
        "    col = df['passed']\n",
        "    del df['passed']\n",
        "    df['passed'] = col\n",
        "\n",
        "\n",
        "# feature scaling will allow the algorithm to converge faster, large data will have same scal\n",
        "def feature_scaling(df):\n",
        "    for i in df:\n",
        "        col = df[i]\n",
        "        # let's choose columns that have large values\n",
        "        if(np.max(col)>6):\n",
        "            Max = max(col)\n",
        "            Min = min(col)\n",
        "            mean = np.mean(col)\n",
        "            col  = (col-mean)/(Max)\n",
        "            df[i] = col\n",
        "        elif(np.max(col)<6):\n",
        "            col = (col-np.min(col))\n",
        "            col /= np.max(col)\n",
        "            df[i] = col"
      ],
      "metadata": {
        "id": "4aull2vjpNp9"
      },
      "execution_count": null,
      "outputs": []
    },
    {
      "cell_type": "markdown",
      "source": [
        "**Digitization of values**"
      ],
      "metadata": {
        "id": "CnvJCIE3qGLx"
      }
    },
    {
      "cell_type": "code",
      "source": [
        "# All values in numerical after calling numerical_data() function\n",
        "numerical_data()\n",
        "df"
      ],
      "metadata": {
        "colab": {
          "base_uri": "https://localhost:8080/",
          "height": 443
        },
        "id": "-jXo6kMBqEBS",
        "outputId": "c7481120-c3c9-43c4-a39f-a8ee0c44a2d2"
      },
      "execution_count": null,
      "outputs": [
        {
          "output_type": "execute_result",
          "data": {
            "text/plain": [
              "     school  sex  age  address  famsize  Pstatus  Medu  Fedu  Mjob  Fjob  ...  \\\n",
              "0         0    1   18        0        1        1     4     4     3     0  ...   \n",
              "1         0    1   17        0        1        0     1     1     3     4  ...   \n",
              "2         0    1   15        0        0        0     1     1     3     4  ...   \n",
              "3         0    1   15        0        1        0     4     2     1     2  ...   \n",
              "4         0    1   16        0        1        0     3     3     4     4  ...   \n",
              "..      ...  ...  ...      ...      ...      ...   ...   ...   ...   ...  ...   \n",
              "390       1    0   20        0        0        1     2     2     2     2  ...   \n",
              "391       1    0   17        0        0        0     3     1     2     2  ...   \n",
              "392       1    0   21        1        1        0     1     1     4     4  ...   \n",
              "393       1    0   18        1        0        0     3     2     2     4  ...   \n",
              "394       1    0   19        0        0        0     1     1     4     3  ...   \n",
              "\n",
              "     internet  romantic  famrel  freetime  goout  Dalc  Walc  health  \\\n",
              "0           0         0       4         3      4     1     1       3   \n",
              "1           1         0       5         3      3     1     1       3   \n",
              "2           1         0       4         3      2     2     3       3   \n",
              "3           1         1       3         2      2     1     1       5   \n",
              "4           0         0       4         3      2     1     2       5   \n",
              "..        ...       ...     ...       ...    ...   ...   ...     ...   \n",
              "390         0         0       5         5      4     4     5       4   \n",
              "391         1         0       2         4      5     3     4       2   \n",
              "392         0         0       5         5      3     3     3       3   \n",
              "393         1         0       4         4      1     3     4       5   \n",
              "394         1         0       3         2      3     3     3       5   \n",
              "\n",
              "     absences  passed  \n",
              "0           6       0  \n",
              "1           4       0  \n",
              "2          10       1  \n",
              "3           2       1  \n",
              "4           4       1  \n",
              "..        ...     ...  \n",
              "390        11       0  \n",
              "391         3       1  \n",
              "392         3       0  \n",
              "393         0       1  \n",
              "394         5       0  \n",
              "\n",
              "[395 rows x 31 columns]"
            ],
            "text/html": [
              "\n",
              "  <div id=\"df-d13fb0c6-da2b-4c16-8342-870df36d1989\" class=\"colab-df-container\">\n",
              "    <div>\n",
              "<style scoped>\n",
              "    .dataframe tbody tr th:only-of-type {\n",
              "        vertical-align: middle;\n",
              "    }\n",
              "\n",
              "    .dataframe tbody tr th {\n",
              "        vertical-align: top;\n",
              "    }\n",
              "\n",
              "    .dataframe thead th {\n",
              "        text-align: right;\n",
              "    }\n",
              "</style>\n",
              "<table border=\"1\" class=\"dataframe\">\n",
              "  <thead>\n",
              "    <tr style=\"text-align: right;\">\n",
              "      <th></th>\n",
              "      <th>school</th>\n",
              "      <th>sex</th>\n",
              "      <th>age</th>\n",
              "      <th>address</th>\n",
              "      <th>famsize</th>\n",
              "      <th>Pstatus</th>\n",
              "      <th>Medu</th>\n",
              "      <th>Fedu</th>\n",
              "      <th>Mjob</th>\n",
              "      <th>Fjob</th>\n",
              "      <th>...</th>\n",
              "      <th>internet</th>\n",
              "      <th>romantic</th>\n",
              "      <th>famrel</th>\n",
              "      <th>freetime</th>\n",
              "      <th>goout</th>\n",
              "      <th>Dalc</th>\n",
              "      <th>Walc</th>\n",
              "      <th>health</th>\n",
              "      <th>absences</th>\n",
              "      <th>passed</th>\n",
              "    </tr>\n",
              "  </thead>\n",
              "  <tbody>\n",
              "    <tr>\n",
              "      <th>0</th>\n",
              "      <td>0</td>\n",
              "      <td>1</td>\n",
              "      <td>18</td>\n",
              "      <td>0</td>\n",
              "      <td>1</td>\n",
              "      <td>1</td>\n",
              "      <td>4</td>\n",
              "      <td>4</td>\n",
              "      <td>3</td>\n",
              "      <td>0</td>\n",
              "      <td>...</td>\n",
              "      <td>0</td>\n",
              "      <td>0</td>\n",
              "      <td>4</td>\n",
              "      <td>3</td>\n",
              "      <td>4</td>\n",
              "      <td>1</td>\n",
              "      <td>1</td>\n",
              "      <td>3</td>\n",
              "      <td>6</td>\n",
              "      <td>0</td>\n",
              "    </tr>\n",
              "    <tr>\n",
              "      <th>1</th>\n",
              "      <td>0</td>\n",
              "      <td>1</td>\n",
              "      <td>17</td>\n",
              "      <td>0</td>\n",
              "      <td>1</td>\n",
              "      <td>0</td>\n",
              "      <td>1</td>\n",
              "      <td>1</td>\n",
              "      <td>3</td>\n",
              "      <td>4</td>\n",
              "      <td>...</td>\n",
              "      <td>1</td>\n",
              "      <td>0</td>\n",
              "      <td>5</td>\n",
              "      <td>3</td>\n",
              "      <td>3</td>\n",
              "      <td>1</td>\n",
              "      <td>1</td>\n",
              "      <td>3</td>\n",
              "      <td>4</td>\n",
              "      <td>0</td>\n",
              "    </tr>\n",
              "    <tr>\n",
              "      <th>2</th>\n",
              "      <td>0</td>\n",
              "      <td>1</td>\n",
              "      <td>15</td>\n",
              "      <td>0</td>\n",
              "      <td>0</td>\n",
              "      <td>0</td>\n",
              "      <td>1</td>\n",
              "      <td>1</td>\n",
              "      <td>3</td>\n",
              "      <td>4</td>\n",
              "      <td>...</td>\n",
              "      <td>1</td>\n",
              "      <td>0</td>\n",
              "      <td>4</td>\n",
              "      <td>3</td>\n",
              "      <td>2</td>\n",
              "      <td>2</td>\n",
              "      <td>3</td>\n",
              "      <td>3</td>\n",
              "      <td>10</td>\n",
              "      <td>1</td>\n",
              "    </tr>\n",
              "    <tr>\n",
              "      <th>3</th>\n",
              "      <td>0</td>\n",
              "      <td>1</td>\n",
              "      <td>15</td>\n",
              "      <td>0</td>\n",
              "      <td>1</td>\n",
              "      <td>0</td>\n",
              "      <td>4</td>\n",
              "      <td>2</td>\n",
              "      <td>1</td>\n",
              "      <td>2</td>\n",
              "      <td>...</td>\n",
              "      <td>1</td>\n",
              "      <td>1</td>\n",
              "      <td>3</td>\n",
              "      <td>2</td>\n",
              "      <td>2</td>\n",
              "      <td>1</td>\n",
              "      <td>1</td>\n",
              "      <td>5</td>\n",
              "      <td>2</td>\n",
              "      <td>1</td>\n",
              "    </tr>\n",
              "    <tr>\n",
              "      <th>4</th>\n",
              "      <td>0</td>\n",
              "      <td>1</td>\n",
              "      <td>16</td>\n",
              "      <td>0</td>\n",
              "      <td>1</td>\n",
              "      <td>0</td>\n",
              "      <td>3</td>\n",
              "      <td>3</td>\n",
              "      <td>4</td>\n",
              "      <td>4</td>\n",
              "      <td>...</td>\n",
              "      <td>0</td>\n",
              "      <td>0</td>\n",
              "      <td>4</td>\n",
              "      <td>3</td>\n",
              "      <td>2</td>\n",
              "      <td>1</td>\n",
              "      <td>2</td>\n",
              "      <td>5</td>\n",
              "      <td>4</td>\n",
              "      <td>1</td>\n",
              "    </tr>\n",
              "    <tr>\n",
              "      <th>...</th>\n",
              "      <td>...</td>\n",
              "      <td>...</td>\n",
              "      <td>...</td>\n",
              "      <td>...</td>\n",
              "      <td>...</td>\n",
              "      <td>...</td>\n",
              "      <td>...</td>\n",
              "      <td>...</td>\n",
              "      <td>...</td>\n",
              "      <td>...</td>\n",
              "      <td>...</td>\n",
              "      <td>...</td>\n",
              "      <td>...</td>\n",
              "      <td>...</td>\n",
              "      <td>...</td>\n",
              "      <td>...</td>\n",
              "      <td>...</td>\n",
              "      <td>...</td>\n",
              "      <td>...</td>\n",
              "      <td>...</td>\n",
              "      <td>...</td>\n",
              "    </tr>\n",
              "    <tr>\n",
              "      <th>390</th>\n",
              "      <td>1</td>\n",
              "      <td>0</td>\n",
              "      <td>20</td>\n",
              "      <td>0</td>\n",
              "      <td>0</td>\n",
              "      <td>1</td>\n",
              "      <td>2</td>\n",
              "      <td>2</td>\n",
              "      <td>2</td>\n",
              "      <td>2</td>\n",
              "      <td>...</td>\n",
              "      <td>0</td>\n",
              "      <td>0</td>\n",
              "      <td>5</td>\n",
              "      <td>5</td>\n",
              "      <td>4</td>\n",
              "      <td>4</td>\n",
              "      <td>5</td>\n",
              "      <td>4</td>\n",
              "      <td>11</td>\n",
              "      <td>0</td>\n",
              "    </tr>\n",
              "    <tr>\n",
              "      <th>391</th>\n",
              "      <td>1</td>\n",
              "      <td>0</td>\n",
              "      <td>17</td>\n",
              "      <td>0</td>\n",
              "      <td>0</td>\n",
              "      <td>0</td>\n",
              "      <td>3</td>\n",
              "      <td>1</td>\n",
              "      <td>2</td>\n",
              "      <td>2</td>\n",
              "      <td>...</td>\n",
              "      <td>1</td>\n",
              "      <td>0</td>\n",
              "      <td>2</td>\n",
              "      <td>4</td>\n",
              "      <td>5</td>\n",
              "      <td>3</td>\n",
              "      <td>4</td>\n",
              "      <td>2</td>\n",
              "      <td>3</td>\n",
              "      <td>1</td>\n",
              "    </tr>\n",
              "    <tr>\n",
              "      <th>392</th>\n",
              "      <td>1</td>\n",
              "      <td>0</td>\n",
              "      <td>21</td>\n",
              "      <td>1</td>\n",
              "      <td>1</td>\n",
              "      <td>0</td>\n",
              "      <td>1</td>\n",
              "      <td>1</td>\n",
              "      <td>4</td>\n",
              "      <td>4</td>\n",
              "      <td>...</td>\n",
              "      <td>0</td>\n",
              "      <td>0</td>\n",
              "      <td>5</td>\n",
              "      <td>5</td>\n",
              "      <td>3</td>\n",
              "      <td>3</td>\n",
              "      <td>3</td>\n",
              "      <td>3</td>\n",
              "      <td>3</td>\n",
              "      <td>0</td>\n",
              "    </tr>\n",
              "    <tr>\n",
              "      <th>393</th>\n",
              "      <td>1</td>\n",
              "      <td>0</td>\n",
              "      <td>18</td>\n",
              "      <td>1</td>\n",
              "      <td>0</td>\n",
              "      <td>0</td>\n",
              "      <td>3</td>\n",
              "      <td>2</td>\n",
              "      <td>2</td>\n",
              "      <td>4</td>\n",
              "      <td>...</td>\n",
              "      <td>1</td>\n",
              "      <td>0</td>\n",
              "      <td>4</td>\n",
              "      <td>4</td>\n",
              "      <td>1</td>\n",
              "      <td>3</td>\n",
              "      <td>4</td>\n",
              "      <td>5</td>\n",
              "      <td>0</td>\n",
              "      <td>1</td>\n",
              "    </tr>\n",
              "    <tr>\n",
              "      <th>394</th>\n",
              "      <td>1</td>\n",
              "      <td>0</td>\n",
              "      <td>19</td>\n",
              "      <td>0</td>\n",
              "      <td>0</td>\n",
              "      <td>0</td>\n",
              "      <td>1</td>\n",
              "      <td>1</td>\n",
              "      <td>4</td>\n",
              "      <td>3</td>\n",
              "      <td>...</td>\n",
              "      <td>1</td>\n",
              "      <td>0</td>\n",
              "      <td>3</td>\n",
              "      <td>2</td>\n",
              "      <td>3</td>\n",
              "      <td>3</td>\n",
              "      <td>3</td>\n",
              "      <td>5</td>\n",
              "      <td>5</td>\n",
              "      <td>0</td>\n",
              "    </tr>\n",
              "  </tbody>\n",
              "</table>\n",
              "<p>395 rows × 31 columns</p>\n",
              "</div>\n",
              "    <div class=\"colab-df-buttons\">\n",
              "\n",
              "  <div class=\"colab-df-container\">\n",
              "    <button class=\"colab-df-convert\" onclick=\"convertToInteractive('df-d13fb0c6-da2b-4c16-8342-870df36d1989')\"\n",
              "            title=\"Convert this dataframe to an interactive table.\"\n",
              "            style=\"display:none;\">\n",
              "\n",
              "  <svg xmlns=\"http://www.w3.org/2000/svg\" height=\"24px\" viewBox=\"0 -960 960 960\">\n",
              "    <path d=\"M120-120v-720h720v720H120Zm60-500h600v-160H180v160Zm220 220h160v-160H400v160Zm0 220h160v-160H400v160ZM180-400h160v-160H180v160Zm440 0h160v-160H620v160ZM180-180h160v-160H180v160Zm440 0h160v-160H620v160Z\"/>\n",
              "  </svg>\n",
              "    </button>\n",
              "\n",
              "  <style>\n",
              "    .colab-df-container {\n",
              "      display:flex;\n",
              "      gap: 12px;\n",
              "    }\n",
              "\n",
              "    .colab-df-convert {\n",
              "      background-color: #E8F0FE;\n",
              "      border: none;\n",
              "      border-radius: 50%;\n",
              "      cursor: pointer;\n",
              "      display: none;\n",
              "      fill: #1967D2;\n",
              "      height: 32px;\n",
              "      padding: 0 0 0 0;\n",
              "      width: 32px;\n",
              "    }\n",
              "\n",
              "    .colab-df-convert:hover {\n",
              "      background-color: #E2EBFA;\n",
              "      box-shadow: 0px 1px 2px rgba(60, 64, 67, 0.3), 0px 1px 3px 1px rgba(60, 64, 67, 0.15);\n",
              "      fill: #174EA6;\n",
              "    }\n",
              "\n",
              "    .colab-df-buttons div {\n",
              "      margin-bottom: 4px;\n",
              "    }\n",
              "\n",
              "    [theme=dark] .colab-df-convert {\n",
              "      background-color: #3B4455;\n",
              "      fill: #D2E3FC;\n",
              "    }\n",
              "\n",
              "    [theme=dark] .colab-df-convert:hover {\n",
              "      background-color: #434B5C;\n",
              "      box-shadow: 0px 1px 3px 1px rgba(0, 0, 0, 0.15);\n",
              "      filter: drop-shadow(0px 1px 2px rgba(0, 0, 0, 0.3));\n",
              "      fill: #FFFFFF;\n",
              "    }\n",
              "  </style>\n",
              "\n",
              "    <script>\n",
              "      const buttonEl =\n",
              "        document.querySelector('#df-d13fb0c6-da2b-4c16-8342-870df36d1989 button.colab-df-convert');\n",
              "      buttonEl.style.display =\n",
              "        google.colab.kernel.accessAllowed ? 'block' : 'none';\n",
              "\n",
              "      async function convertToInteractive(key) {\n",
              "        const element = document.querySelector('#df-d13fb0c6-da2b-4c16-8342-870df36d1989');\n",
              "        const dataTable =\n",
              "          await google.colab.kernel.invokeFunction('convertToInteractive',\n",
              "                                                    [key], {});\n",
              "        if (!dataTable) return;\n",
              "\n",
              "        const docLinkHtml = 'Like what you see? Visit the ' +\n",
              "          '<a target=\"_blank\" href=https://colab.research.google.com/notebooks/data_table.ipynb>data table notebook</a>'\n",
              "          + ' to learn more about interactive tables.';\n",
              "        element.innerHTML = '';\n",
              "        dataTable['output_type'] = 'display_data';\n",
              "        await google.colab.output.renderOutput(dataTable, element);\n",
              "        const docLink = document.createElement('div');\n",
              "        docLink.innerHTML = docLinkHtml;\n",
              "        element.appendChild(docLink);\n",
              "      }\n",
              "    </script>\n",
              "  </div>\n",
              "\n",
              "\n",
              "<div id=\"df-6ead610f-6b94-49a2-9710-9d3e959637c3\">\n",
              "  <button class=\"colab-df-quickchart\" onclick=\"quickchart('df-6ead610f-6b94-49a2-9710-9d3e959637c3')\"\n",
              "            title=\"Suggest charts\"\n",
              "            style=\"display:none;\">\n",
              "\n",
              "<svg xmlns=\"http://www.w3.org/2000/svg\" height=\"24px\"viewBox=\"0 0 24 24\"\n",
              "     width=\"24px\">\n",
              "    <g>\n",
              "        <path d=\"M19 3H5c-1.1 0-2 .9-2 2v14c0 1.1.9 2 2 2h14c1.1 0 2-.9 2-2V5c0-1.1-.9-2-2-2zM9 17H7v-7h2v7zm4 0h-2V7h2v10zm4 0h-2v-4h2v4z\"/>\n",
              "    </g>\n",
              "</svg>\n",
              "  </button>\n",
              "\n",
              "<style>\n",
              "  .colab-df-quickchart {\n",
              "      --bg-color: #E8F0FE;\n",
              "      --fill-color: #1967D2;\n",
              "      --hover-bg-color: #E2EBFA;\n",
              "      --hover-fill-color: #174EA6;\n",
              "      --disabled-fill-color: #AAA;\n",
              "      --disabled-bg-color: #DDD;\n",
              "  }\n",
              "\n",
              "  [theme=dark] .colab-df-quickchart {\n",
              "      --bg-color: #3B4455;\n",
              "      --fill-color: #D2E3FC;\n",
              "      --hover-bg-color: #434B5C;\n",
              "      --hover-fill-color: #FFFFFF;\n",
              "      --disabled-bg-color: #3B4455;\n",
              "      --disabled-fill-color: #666;\n",
              "  }\n",
              "\n",
              "  .colab-df-quickchart {\n",
              "    background-color: var(--bg-color);\n",
              "    border: none;\n",
              "    border-radius: 50%;\n",
              "    cursor: pointer;\n",
              "    display: none;\n",
              "    fill: var(--fill-color);\n",
              "    height: 32px;\n",
              "    padding: 0;\n",
              "    width: 32px;\n",
              "  }\n",
              "\n",
              "  .colab-df-quickchart:hover {\n",
              "    background-color: var(--hover-bg-color);\n",
              "    box-shadow: 0 1px 2px rgba(60, 64, 67, 0.3), 0 1px 3px 1px rgba(60, 64, 67, 0.15);\n",
              "    fill: var(--button-hover-fill-color);\n",
              "  }\n",
              "\n",
              "  .colab-df-quickchart-complete:disabled,\n",
              "  .colab-df-quickchart-complete:disabled:hover {\n",
              "    background-color: var(--disabled-bg-color);\n",
              "    fill: var(--disabled-fill-color);\n",
              "    box-shadow: none;\n",
              "  }\n",
              "\n",
              "  .colab-df-spinner {\n",
              "    border: 2px solid var(--fill-color);\n",
              "    border-color: transparent;\n",
              "    border-bottom-color: var(--fill-color);\n",
              "    animation:\n",
              "      spin 1s steps(1) infinite;\n",
              "  }\n",
              "\n",
              "  @keyframes spin {\n",
              "    0% {\n",
              "      border-color: transparent;\n",
              "      border-bottom-color: var(--fill-color);\n",
              "      border-left-color: var(--fill-color);\n",
              "    }\n",
              "    20% {\n",
              "      border-color: transparent;\n",
              "      border-left-color: var(--fill-color);\n",
              "      border-top-color: var(--fill-color);\n",
              "    }\n",
              "    30% {\n",
              "      border-color: transparent;\n",
              "      border-left-color: var(--fill-color);\n",
              "      border-top-color: var(--fill-color);\n",
              "      border-right-color: var(--fill-color);\n",
              "    }\n",
              "    40% {\n",
              "      border-color: transparent;\n",
              "      border-right-color: var(--fill-color);\n",
              "      border-top-color: var(--fill-color);\n",
              "    }\n",
              "    60% {\n",
              "      border-color: transparent;\n",
              "      border-right-color: var(--fill-color);\n",
              "    }\n",
              "    80% {\n",
              "      border-color: transparent;\n",
              "      border-right-color: var(--fill-color);\n",
              "      border-bottom-color: var(--fill-color);\n",
              "    }\n",
              "    90% {\n",
              "      border-color: transparent;\n",
              "      border-bottom-color: var(--fill-color);\n",
              "    }\n",
              "  }\n",
              "</style>\n",
              "\n",
              "  <script>\n",
              "    async function quickchart(key) {\n",
              "      const quickchartButtonEl =\n",
              "        document.querySelector('#' + key + ' button');\n",
              "      quickchartButtonEl.disabled = true;  // To prevent multiple clicks.\n",
              "      quickchartButtonEl.classList.add('colab-df-spinner');\n",
              "      try {\n",
              "        const charts = await google.colab.kernel.invokeFunction(\n",
              "            'suggestCharts', [key], {});\n",
              "      } catch (error) {\n",
              "        console.error('Error during call to suggestCharts:', error);\n",
              "      }\n",
              "      quickchartButtonEl.classList.remove('colab-df-spinner');\n",
              "      quickchartButtonEl.classList.add('colab-df-quickchart-complete');\n",
              "    }\n",
              "    (() => {\n",
              "      let quickchartButtonEl =\n",
              "        document.querySelector('#df-6ead610f-6b94-49a2-9710-9d3e959637c3 button');\n",
              "      quickchartButtonEl.style.display =\n",
              "        google.colab.kernel.accessAllowed ? 'block' : 'none';\n",
              "    })();\n",
              "  </script>\n",
              "</div>\n",
              "    </div>\n",
              "  </div>\n"
            ],
            "application/vnd.google.colaboratory.intrinsic+json": {
              "type": "dataframe",
              "variable_name": "df"
            }
          },
          "metadata": {},
          "execution_count": 20
        }
      ]
    },
    {
      "cell_type": "markdown",
      "source": [
        "**Features scalling**"
      ],
      "metadata": {
        "id": "PyxkgwRFqMoi"
      }
    },
    {
      "cell_type": "code",
      "source": [
        "# Let's scal our features\n",
        "feature_scaling(df)\n",
        "\n",
        "# Now we are ready for models training\n",
        "df"
      ],
      "metadata": {
        "colab": {
          "base_uri": "https://localhost:8080/",
          "height": 443
        },
        "id": "-0p72Fjzp5bi",
        "outputId": "cf92acee-5244-4078-fd7f-417475a66d27"
      },
      "execution_count": null,
      "outputs": [
        {
          "output_type": "execute_result",
          "data": {
            "text/plain": [
              "     school  sex       age  address  famsize  Pstatus  Medu  Fedu  Mjob  Fjob  \\\n",
              "0       0.0  1.0  0.059264      0.0      1.0      1.0  1.00  1.00  0.75  0.00   \n",
              "1       0.0  1.0  0.013809      0.0      1.0      0.0  0.25  0.25  0.75  1.00   \n",
              "2       0.0  1.0 -0.077100      0.0      0.0      0.0  0.25  0.25  0.75  1.00   \n",
              "3       0.0  1.0 -0.077100      0.0      1.0      0.0  1.00  0.50  0.25  0.50   \n",
              "4       0.0  1.0 -0.031646      0.0      1.0      0.0  0.75  0.75  1.00  1.00   \n",
              "..      ...  ...       ...      ...      ...      ...   ...   ...   ...   ...   \n",
              "390     1.0  0.0  0.150173      0.0      0.0      1.0  0.50  0.50  0.50  0.50   \n",
              "391     1.0  0.0  0.013809      0.0      0.0      0.0  0.75  0.25  0.50  0.50   \n",
              "392     1.0  0.0  0.195627      1.0      1.0      0.0  0.25  0.25  1.00  1.00   \n",
              "393     1.0  0.0  0.059264      1.0      0.0      0.0  0.75  0.50  0.50  1.00   \n",
              "394     1.0  0.0  0.104718      0.0      0.0      0.0  0.25  0.25  1.00  0.75   \n",
              "\n",
              "     ...  internet  romantic  famrel  freetime  goout  Dalc  Walc  health  \\\n",
              "0    ...       0.0       0.0    0.75      0.50   0.75  0.00  0.00    0.50   \n",
              "1    ...       1.0       0.0    1.00      0.50   0.50  0.00  0.00    0.50   \n",
              "2    ...       1.0       0.0    0.75      0.50   0.25  0.25  0.50    0.50   \n",
              "3    ...       1.0       1.0    0.50      0.25   0.25  0.00  0.00    1.00   \n",
              "4    ...       0.0       0.0    0.75      0.50   0.25  0.00  0.25    1.00   \n",
              "..   ...       ...       ...     ...       ...    ...   ...   ...     ...   \n",
              "390  ...       0.0       0.0    1.00      1.00   0.75  0.75  1.00    0.75   \n",
              "391  ...       1.0       0.0    0.25      0.75   1.00  0.50  0.75    0.25   \n",
              "392  ...       0.0       0.0    1.00      1.00   0.50  0.50  0.50    0.50   \n",
              "393  ...       1.0       0.0    0.75      0.75   0.00  0.50  0.75    1.00   \n",
              "394  ...       1.0       0.0    0.50      0.25   0.50  0.50  0.50    1.00   \n",
              "\n",
              "     absences  passed  \n",
              "0    0.003882     0.0  \n",
              "1   -0.022785     0.0  \n",
              "2    0.057215     1.0  \n",
              "3   -0.049451     1.0  \n",
              "4   -0.022785     1.0  \n",
              "..        ...     ...  \n",
              "390  0.070549     0.0  \n",
              "391 -0.036118     1.0  \n",
              "392 -0.036118     0.0  \n",
              "393 -0.076118     1.0  \n",
              "394 -0.009451     0.0  \n",
              "\n",
              "[395 rows x 31 columns]"
            ],
            "text/html": [
              "\n",
              "  <div id=\"df-619918e3-0e9b-4965-ae94-700655732aea\" class=\"colab-df-container\">\n",
              "    <div>\n",
              "<style scoped>\n",
              "    .dataframe tbody tr th:only-of-type {\n",
              "        vertical-align: middle;\n",
              "    }\n",
              "\n",
              "    .dataframe tbody tr th {\n",
              "        vertical-align: top;\n",
              "    }\n",
              "\n",
              "    .dataframe thead th {\n",
              "        text-align: right;\n",
              "    }\n",
              "</style>\n",
              "<table border=\"1\" class=\"dataframe\">\n",
              "  <thead>\n",
              "    <tr style=\"text-align: right;\">\n",
              "      <th></th>\n",
              "      <th>school</th>\n",
              "      <th>sex</th>\n",
              "      <th>age</th>\n",
              "      <th>address</th>\n",
              "      <th>famsize</th>\n",
              "      <th>Pstatus</th>\n",
              "      <th>Medu</th>\n",
              "      <th>Fedu</th>\n",
              "      <th>Mjob</th>\n",
              "      <th>Fjob</th>\n",
              "      <th>...</th>\n",
              "      <th>internet</th>\n",
              "      <th>romantic</th>\n",
              "      <th>famrel</th>\n",
              "      <th>freetime</th>\n",
              "      <th>goout</th>\n",
              "      <th>Dalc</th>\n",
              "      <th>Walc</th>\n",
              "      <th>health</th>\n",
              "      <th>absences</th>\n",
              "      <th>passed</th>\n",
              "    </tr>\n",
              "  </thead>\n",
              "  <tbody>\n",
              "    <tr>\n",
              "      <th>0</th>\n",
              "      <td>0.0</td>\n",
              "      <td>1.0</td>\n",
              "      <td>0.059264</td>\n",
              "      <td>0.0</td>\n",
              "      <td>1.0</td>\n",
              "      <td>1.0</td>\n",
              "      <td>1.00</td>\n",
              "      <td>1.00</td>\n",
              "      <td>0.75</td>\n",
              "      <td>0.00</td>\n",
              "      <td>...</td>\n",
              "      <td>0.0</td>\n",
              "      <td>0.0</td>\n",
              "      <td>0.75</td>\n",
              "      <td>0.50</td>\n",
              "      <td>0.75</td>\n",
              "      <td>0.00</td>\n",
              "      <td>0.00</td>\n",
              "      <td>0.50</td>\n",
              "      <td>0.003882</td>\n",
              "      <td>0.0</td>\n",
              "    </tr>\n",
              "    <tr>\n",
              "      <th>1</th>\n",
              "      <td>0.0</td>\n",
              "      <td>1.0</td>\n",
              "      <td>0.013809</td>\n",
              "      <td>0.0</td>\n",
              "      <td>1.0</td>\n",
              "      <td>0.0</td>\n",
              "      <td>0.25</td>\n",
              "      <td>0.25</td>\n",
              "      <td>0.75</td>\n",
              "      <td>1.00</td>\n",
              "      <td>...</td>\n",
              "      <td>1.0</td>\n",
              "      <td>0.0</td>\n",
              "      <td>1.00</td>\n",
              "      <td>0.50</td>\n",
              "      <td>0.50</td>\n",
              "      <td>0.00</td>\n",
              "      <td>0.00</td>\n",
              "      <td>0.50</td>\n",
              "      <td>-0.022785</td>\n",
              "      <td>0.0</td>\n",
              "    </tr>\n",
              "    <tr>\n",
              "      <th>2</th>\n",
              "      <td>0.0</td>\n",
              "      <td>1.0</td>\n",
              "      <td>-0.077100</td>\n",
              "      <td>0.0</td>\n",
              "      <td>0.0</td>\n",
              "      <td>0.0</td>\n",
              "      <td>0.25</td>\n",
              "      <td>0.25</td>\n",
              "      <td>0.75</td>\n",
              "      <td>1.00</td>\n",
              "      <td>...</td>\n",
              "      <td>1.0</td>\n",
              "      <td>0.0</td>\n",
              "      <td>0.75</td>\n",
              "      <td>0.50</td>\n",
              "      <td>0.25</td>\n",
              "      <td>0.25</td>\n",
              "      <td>0.50</td>\n",
              "      <td>0.50</td>\n",
              "      <td>0.057215</td>\n",
              "      <td>1.0</td>\n",
              "    </tr>\n",
              "    <tr>\n",
              "      <th>3</th>\n",
              "      <td>0.0</td>\n",
              "      <td>1.0</td>\n",
              "      <td>-0.077100</td>\n",
              "      <td>0.0</td>\n",
              "      <td>1.0</td>\n",
              "      <td>0.0</td>\n",
              "      <td>1.00</td>\n",
              "      <td>0.50</td>\n",
              "      <td>0.25</td>\n",
              "      <td>0.50</td>\n",
              "      <td>...</td>\n",
              "      <td>1.0</td>\n",
              "      <td>1.0</td>\n",
              "      <td>0.50</td>\n",
              "      <td>0.25</td>\n",
              "      <td>0.25</td>\n",
              "      <td>0.00</td>\n",
              "      <td>0.00</td>\n",
              "      <td>1.00</td>\n",
              "      <td>-0.049451</td>\n",
              "      <td>1.0</td>\n",
              "    </tr>\n",
              "    <tr>\n",
              "      <th>4</th>\n",
              "      <td>0.0</td>\n",
              "      <td>1.0</td>\n",
              "      <td>-0.031646</td>\n",
              "      <td>0.0</td>\n",
              "      <td>1.0</td>\n",
              "      <td>0.0</td>\n",
              "      <td>0.75</td>\n",
              "      <td>0.75</td>\n",
              "      <td>1.00</td>\n",
              "      <td>1.00</td>\n",
              "      <td>...</td>\n",
              "      <td>0.0</td>\n",
              "      <td>0.0</td>\n",
              "      <td>0.75</td>\n",
              "      <td>0.50</td>\n",
              "      <td>0.25</td>\n",
              "      <td>0.00</td>\n",
              "      <td>0.25</td>\n",
              "      <td>1.00</td>\n",
              "      <td>-0.022785</td>\n",
              "      <td>1.0</td>\n",
              "    </tr>\n",
              "    <tr>\n",
              "      <th>...</th>\n",
              "      <td>...</td>\n",
              "      <td>...</td>\n",
              "      <td>...</td>\n",
              "      <td>...</td>\n",
              "      <td>...</td>\n",
              "      <td>...</td>\n",
              "      <td>...</td>\n",
              "      <td>...</td>\n",
              "      <td>...</td>\n",
              "      <td>...</td>\n",
              "      <td>...</td>\n",
              "      <td>...</td>\n",
              "      <td>...</td>\n",
              "      <td>...</td>\n",
              "      <td>...</td>\n",
              "      <td>...</td>\n",
              "      <td>...</td>\n",
              "      <td>...</td>\n",
              "      <td>...</td>\n",
              "      <td>...</td>\n",
              "      <td>...</td>\n",
              "    </tr>\n",
              "    <tr>\n",
              "      <th>390</th>\n",
              "      <td>1.0</td>\n",
              "      <td>0.0</td>\n",
              "      <td>0.150173</td>\n",
              "      <td>0.0</td>\n",
              "      <td>0.0</td>\n",
              "      <td>1.0</td>\n",
              "      <td>0.50</td>\n",
              "      <td>0.50</td>\n",
              "      <td>0.50</td>\n",
              "      <td>0.50</td>\n",
              "      <td>...</td>\n",
              "      <td>0.0</td>\n",
              "      <td>0.0</td>\n",
              "      <td>1.00</td>\n",
              "      <td>1.00</td>\n",
              "      <td>0.75</td>\n",
              "      <td>0.75</td>\n",
              "      <td>1.00</td>\n",
              "      <td>0.75</td>\n",
              "      <td>0.070549</td>\n",
              "      <td>0.0</td>\n",
              "    </tr>\n",
              "    <tr>\n",
              "      <th>391</th>\n",
              "      <td>1.0</td>\n",
              "      <td>0.0</td>\n",
              "      <td>0.013809</td>\n",
              "      <td>0.0</td>\n",
              "      <td>0.0</td>\n",
              "      <td>0.0</td>\n",
              "      <td>0.75</td>\n",
              "      <td>0.25</td>\n",
              "      <td>0.50</td>\n",
              "      <td>0.50</td>\n",
              "      <td>...</td>\n",
              "      <td>1.0</td>\n",
              "      <td>0.0</td>\n",
              "      <td>0.25</td>\n",
              "      <td>0.75</td>\n",
              "      <td>1.00</td>\n",
              "      <td>0.50</td>\n",
              "      <td>0.75</td>\n",
              "      <td>0.25</td>\n",
              "      <td>-0.036118</td>\n",
              "      <td>1.0</td>\n",
              "    </tr>\n",
              "    <tr>\n",
              "      <th>392</th>\n",
              "      <td>1.0</td>\n",
              "      <td>0.0</td>\n",
              "      <td>0.195627</td>\n",
              "      <td>1.0</td>\n",
              "      <td>1.0</td>\n",
              "      <td>0.0</td>\n",
              "      <td>0.25</td>\n",
              "      <td>0.25</td>\n",
              "      <td>1.00</td>\n",
              "      <td>1.00</td>\n",
              "      <td>...</td>\n",
              "      <td>0.0</td>\n",
              "      <td>0.0</td>\n",
              "      <td>1.00</td>\n",
              "      <td>1.00</td>\n",
              "      <td>0.50</td>\n",
              "      <td>0.50</td>\n",
              "      <td>0.50</td>\n",
              "      <td>0.50</td>\n",
              "      <td>-0.036118</td>\n",
              "      <td>0.0</td>\n",
              "    </tr>\n",
              "    <tr>\n",
              "      <th>393</th>\n",
              "      <td>1.0</td>\n",
              "      <td>0.0</td>\n",
              "      <td>0.059264</td>\n",
              "      <td>1.0</td>\n",
              "      <td>0.0</td>\n",
              "      <td>0.0</td>\n",
              "      <td>0.75</td>\n",
              "      <td>0.50</td>\n",
              "      <td>0.50</td>\n",
              "      <td>1.00</td>\n",
              "      <td>...</td>\n",
              "      <td>1.0</td>\n",
              "      <td>0.0</td>\n",
              "      <td>0.75</td>\n",
              "      <td>0.75</td>\n",
              "      <td>0.00</td>\n",
              "      <td>0.50</td>\n",
              "      <td>0.75</td>\n",
              "      <td>1.00</td>\n",
              "      <td>-0.076118</td>\n",
              "      <td>1.0</td>\n",
              "    </tr>\n",
              "    <tr>\n",
              "      <th>394</th>\n",
              "      <td>1.0</td>\n",
              "      <td>0.0</td>\n",
              "      <td>0.104718</td>\n",
              "      <td>0.0</td>\n",
              "      <td>0.0</td>\n",
              "      <td>0.0</td>\n",
              "      <td>0.25</td>\n",
              "      <td>0.25</td>\n",
              "      <td>1.00</td>\n",
              "      <td>0.75</td>\n",
              "      <td>...</td>\n",
              "      <td>1.0</td>\n",
              "      <td>0.0</td>\n",
              "      <td>0.50</td>\n",
              "      <td>0.25</td>\n",
              "      <td>0.50</td>\n",
              "      <td>0.50</td>\n",
              "      <td>0.50</td>\n",
              "      <td>1.00</td>\n",
              "      <td>-0.009451</td>\n",
              "      <td>0.0</td>\n",
              "    </tr>\n",
              "  </tbody>\n",
              "</table>\n",
              "<p>395 rows × 31 columns</p>\n",
              "</div>\n",
              "    <div class=\"colab-df-buttons\">\n",
              "\n",
              "  <div class=\"colab-df-container\">\n",
              "    <button class=\"colab-df-convert\" onclick=\"convertToInteractive('df-619918e3-0e9b-4965-ae94-700655732aea')\"\n",
              "            title=\"Convert this dataframe to an interactive table.\"\n",
              "            style=\"display:none;\">\n",
              "\n",
              "  <svg xmlns=\"http://www.w3.org/2000/svg\" height=\"24px\" viewBox=\"0 -960 960 960\">\n",
              "    <path d=\"M120-120v-720h720v720H120Zm60-500h600v-160H180v160Zm220 220h160v-160H400v160Zm0 220h160v-160H400v160ZM180-400h160v-160H180v160Zm440 0h160v-160H620v160ZM180-180h160v-160H180v160Zm440 0h160v-160H620v160Z\"/>\n",
              "  </svg>\n",
              "    </button>\n",
              "\n",
              "  <style>\n",
              "    .colab-df-container {\n",
              "      display:flex;\n",
              "      gap: 12px;\n",
              "    }\n",
              "\n",
              "    .colab-df-convert {\n",
              "      background-color: #E8F0FE;\n",
              "      border: none;\n",
              "      border-radius: 50%;\n",
              "      cursor: pointer;\n",
              "      display: none;\n",
              "      fill: #1967D2;\n",
              "      height: 32px;\n",
              "      padding: 0 0 0 0;\n",
              "      width: 32px;\n",
              "    }\n",
              "\n",
              "    .colab-df-convert:hover {\n",
              "      background-color: #E2EBFA;\n",
              "      box-shadow: 0px 1px 2px rgba(60, 64, 67, 0.3), 0px 1px 3px 1px rgba(60, 64, 67, 0.15);\n",
              "      fill: #174EA6;\n",
              "    }\n",
              "\n",
              "    .colab-df-buttons div {\n",
              "      margin-bottom: 4px;\n",
              "    }\n",
              "\n",
              "    [theme=dark] .colab-df-convert {\n",
              "      background-color: #3B4455;\n",
              "      fill: #D2E3FC;\n",
              "    }\n",
              "\n",
              "    [theme=dark] .colab-df-convert:hover {\n",
              "      background-color: #434B5C;\n",
              "      box-shadow: 0px 1px 3px 1px rgba(0, 0, 0, 0.15);\n",
              "      filter: drop-shadow(0px 1px 2px rgba(0, 0, 0, 0.3));\n",
              "      fill: #FFFFFF;\n",
              "    }\n",
              "  </style>\n",
              "\n",
              "    <script>\n",
              "      const buttonEl =\n",
              "        document.querySelector('#df-619918e3-0e9b-4965-ae94-700655732aea button.colab-df-convert');\n",
              "      buttonEl.style.display =\n",
              "        google.colab.kernel.accessAllowed ? 'block' : 'none';\n",
              "\n",
              "      async function convertToInteractive(key) {\n",
              "        const element = document.querySelector('#df-619918e3-0e9b-4965-ae94-700655732aea');\n",
              "        const dataTable =\n",
              "          await google.colab.kernel.invokeFunction('convertToInteractive',\n",
              "                                                    [key], {});\n",
              "        if (!dataTable) return;\n",
              "\n",
              "        const docLinkHtml = 'Like what you see? Visit the ' +\n",
              "          '<a target=\"_blank\" href=https://colab.research.google.com/notebooks/data_table.ipynb>data table notebook</a>'\n",
              "          + ' to learn more about interactive tables.';\n",
              "        element.innerHTML = '';\n",
              "        dataTable['output_type'] = 'display_data';\n",
              "        await google.colab.output.renderOutput(dataTable, element);\n",
              "        const docLink = document.createElement('div');\n",
              "        docLink.innerHTML = docLinkHtml;\n",
              "        element.appendChild(docLink);\n",
              "      }\n",
              "    </script>\n",
              "  </div>\n",
              "\n",
              "\n",
              "<div id=\"df-f952bfc9-a4a7-4d40-a552-24fab781b52a\">\n",
              "  <button class=\"colab-df-quickchart\" onclick=\"quickchart('df-f952bfc9-a4a7-4d40-a552-24fab781b52a')\"\n",
              "            title=\"Suggest charts\"\n",
              "            style=\"display:none;\">\n",
              "\n",
              "<svg xmlns=\"http://www.w3.org/2000/svg\" height=\"24px\"viewBox=\"0 0 24 24\"\n",
              "     width=\"24px\">\n",
              "    <g>\n",
              "        <path d=\"M19 3H5c-1.1 0-2 .9-2 2v14c0 1.1.9 2 2 2h14c1.1 0 2-.9 2-2V5c0-1.1-.9-2-2-2zM9 17H7v-7h2v7zm4 0h-2V7h2v10zm4 0h-2v-4h2v4z\"/>\n",
              "    </g>\n",
              "</svg>\n",
              "  </button>\n",
              "\n",
              "<style>\n",
              "  .colab-df-quickchart {\n",
              "      --bg-color: #E8F0FE;\n",
              "      --fill-color: #1967D2;\n",
              "      --hover-bg-color: #E2EBFA;\n",
              "      --hover-fill-color: #174EA6;\n",
              "      --disabled-fill-color: #AAA;\n",
              "      --disabled-bg-color: #DDD;\n",
              "  }\n",
              "\n",
              "  [theme=dark] .colab-df-quickchart {\n",
              "      --bg-color: #3B4455;\n",
              "      --fill-color: #D2E3FC;\n",
              "      --hover-bg-color: #434B5C;\n",
              "      --hover-fill-color: #FFFFFF;\n",
              "      --disabled-bg-color: #3B4455;\n",
              "      --disabled-fill-color: #666;\n",
              "  }\n",
              "\n",
              "  .colab-df-quickchart {\n",
              "    background-color: var(--bg-color);\n",
              "    border: none;\n",
              "    border-radius: 50%;\n",
              "    cursor: pointer;\n",
              "    display: none;\n",
              "    fill: var(--fill-color);\n",
              "    height: 32px;\n",
              "    padding: 0;\n",
              "    width: 32px;\n",
              "  }\n",
              "\n",
              "  .colab-df-quickchart:hover {\n",
              "    background-color: var(--hover-bg-color);\n",
              "    box-shadow: 0 1px 2px rgba(60, 64, 67, 0.3), 0 1px 3px 1px rgba(60, 64, 67, 0.15);\n",
              "    fill: var(--button-hover-fill-color);\n",
              "  }\n",
              "\n",
              "  .colab-df-quickchart-complete:disabled,\n",
              "  .colab-df-quickchart-complete:disabled:hover {\n",
              "    background-color: var(--disabled-bg-color);\n",
              "    fill: var(--disabled-fill-color);\n",
              "    box-shadow: none;\n",
              "  }\n",
              "\n",
              "  .colab-df-spinner {\n",
              "    border: 2px solid var(--fill-color);\n",
              "    border-color: transparent;\n",
              "    border-bottom-color: var(--fill-color);\n",
              "    animation:\n",
              "      spin 1s steps(1) infinite;\n",
              "  }\n",
              "\n",
              "  @keyframes spin {\n",
              "    0% {\n",
              "      border-color: transparent;\n",
              "      border-bottom-color: var(--fill-color);\n",
              "      border-left-color: var(--fill-color);\n",
              "    }\n",
              "    20% {\n",
              "      border-color: transparent;\n",
              "      border-left-color: var(--fill-color);\n",
              "      border-top-color: var(--fill-color);\n",
              "    }\n",
              "    30% {\n",
              "      border-color: transparent;\n",
              "      border-left-color: var(--fill-color);\n",
              "      border-top-color: var(--fill-color);\n",
              "      border-right-color: var(--fill-color);\n",
              "    }\n",
              "    40% {\n",
              "      border-color: transparent;\n",
              "      border-right-color: var(--fill-color);\n",
              "      border-top-color: var(--fill-color);\n",
              "    }\n",
              "    60% {\n",
              "      border-color: transparent;\n",
              "      border-right-color: var(--fill-color);\n",
              "    }\n",
              "    80% {\n",
              "      border-color: transparent;\n",
              "      border-right-color: var(--fill-color);\n",
              "      border-bottom-color: var(--fill-color);\n",
              "    }\n",
              "    90% {\n",
              "      border-color: transparent;\n",
              "      border-bottom-color: var(--fill-color);\n",
              "    }\n",
              "  }\n",
              "</style>\n",
              "\n",
              "  <script>\n",
              "    async function quickchart(key) {\n",
              "      const quickchartButtonEl =\n",
              "        document.querySelector('#' + key + ' button');\n",
              "      quickchartButtonEl.disabled = true;  // To prevent multiple clicks.\n",
              "      quickchartButtonEl.classList.add('colab-df-spinner');\n",
              "      try {\n",
              "        const charts = await google.colab.kernel.invokeFunction(\n",
              "            'suggestCharts', [key], {});\n",
              "      } catch (error) {\n",
              "        console.error('Error during call to suggestCharts:', error);\n",
              "      }\n",
              "      quickchartButtonEl.classList.remove('colab-df-spinner');\n",
              "      quickchartButtonEl.classList.add('colab-df-quickchart-complete');\n",
              "    }\n",
              "    (() => {\n",
              "      let quickchartButtonEl =\n",
              "        document.querySelector('#df-f952bfc9-a4a7-4d40-a552-24fab781b52a button');\n",
              "      quickchartButtonEl.style.display =\n",
              "        google.colab.kernel.accessAllowed ? 'block' : 'none';\n",
              "    })();\n",
              "  </script>\n",
              "</div>\n",
              "    </div>\n",
              "  </div>\n"
            ],
            "application/vnd.google.colaboratory.intrinsic+json": {
              "type": "dataframe",
              "variable_name": "df"
            }
          },
          "metadata": {},
          "execution_count": 21
        }
      ]
    },
    {
      "cell_type": "markdown",
      "source": [
        "**Data visualisation**"
      ],
      "metadata": {
        "id": "SCqyjLQVqVr9"
      }
    },
    {
      "cell_type": "markdown",
      "source": [
        "**1. Data inspection**"
      ],
      "metadata": {
        "id": "HrmksniyqqeD"
      }
    },
    {
      "cell_type": "code",
      "source": [
        "df.shape"
      ],
      "metadata": {
        "colab": {
          "base_uri": "https://localhost:8080/"
        },
        "id": "xGU_YPiSqYP5",
        "outputId": "def41555-4ab4-4f40-e4ba-a85070934ec2"
      },
      "execution_count": null,
      "outputs": [
        {
          "output_type": "execute_result",
          "data": {
            "text/plain": [
              "(395, 31)"
            ]
          },
          "metadata": {},
          "execution_count": 22
        }
      ]
    },
    {
      "cell_type": "code",
      "source": [
        "df.dropna().shape # their is no null value \"fortunately:)\""
      ],
      "metadata": {
        "colab": {
          "base_uri": "https://localhost:8080/"
        },
        "id": "L9OXg5kDqgPv",
        "outputId": "12382abd-881c-49c6-973a-658a3f197353"
      },
      "execution_count": null,
      "outputs": [
        {
          "output_type": "execute_result",
          "data": {
            "text/plain": [
              "(395, 31)"
            ]
          },
          "metadata": {},
          "execution_count": 23
        }
      ]
    },
    {
      "cell_type": "code",
      "source": [
        "df.columns"
      ],
      "metadata": {
        "colab": {
          "base_uri": "https://localhost:8080/"
        },
        "id": "1djhivC6qoD3",
        "outputId": "17e8e5ed-8444-4503-ae68-2357ff911a57"
      },
      "execution_count": null,
      "outputs": [
        {
          "output_type": "execute_result",
          "data": {
            "text/plain": [
              "Index(['school', 'sex', 'age', 'address', 'famsize', 'Pstatus', 'Medu', 'Fedu',\n",
              "       'Mjob', 'Fjob', 'reason', 'guardian', 'traveltime', 'studytime',\n",
              "       'failures', 'schoolsup', 'famsup', 'paid', 'activities', 'nursery',\n",
              "       'higher', 'internet', 'romantic', 'famrel', 'freetime', 'goout', 'Dalc',\n",
              "       'Walc', 'health', 'absences', 'passed'],\n",
              "      dtype='object')"
            ]
          },
          "metadata": {},
          "execution_count": 24
        }
      ]
    },
    {
      "cell_type": "code",
      "source": [
        "features=['school', 'sex', 'age', 'address', 'famsize', 'Pstatus', 'Medu', 'Fedu',\n",
        "       'Mjob', 'Fjob', 'reason', 'guardian', 'traveltime', 'studytime',\n",
        "       'failures', 'schoolsup', 'famsup', 'paid', 'activities', 'nursery',\n",
        "       'higher', 'internet', 'romantic', 'famrel', 'freetime', 'goout', 'Dalc',\n",
        "       'Walc', 'health', 'absences']"
      ],
      "metadata": {
        "id": "IYjJBSrlqpoR"
      },
      "execution_count": null,
      "outputs": []
    },
    {
      "cell_type": "markdown",
      "source": [
        "**2. features visualisation**"
      ],
      "metadata": {
        "id": "h9bW9N-CrClz"
      }
    },
    {
      "cell_type": "code",
      "source": [
        "#plot of student status\n",
        "dfv['passed'].value_counts()"
      ],
      "metadata": {
        "colab": {
          "base_uri": "https://localhost:8080/"
        },
        "id": "HHLjOXE8rI5n",
        "outputId": "77425bac-441a-4531-a22b-93171e821bd9"
      },
      "execution_count": null,
      "outputs": [
        {
          "output_type": "execute_result",
          "data": {
            "text/plain": [
              "passed\n",
              "yes    265\n",
              "no     130\n",
              "Name: count, dtype: int64"
            ]
          },
          "metadata": {},
          "execution_count": 26
        }
      ]
    },
    {
      "cell_type": "code",
      "source": [
        "labels = 'student pass the final exam ', 'student fail the final exam'\n",
        "sizes = [265, 130]\n",
        "colors=['lightskyblue','yellow']\n",
        "fig1, ax1 = plt.subplots()\n",
        "ax1.pie(sizes,  labels=labels, autopct='%1.1f%%',colors=colors,\n",
        "        shadow=True, startangle=90)\n",
        "ax1.axis('equal')  # Equal aspect ratio ensures that pie is drawn as a circle.\n",
        "plt.show()"
      ],
      "metadata": {
        "colab": {
          "base_uri": "https://localhost:8080/",
          "height": 406
        },
        "id": "WVY2zQAcrNQW",
        "outputId": "31bee4d7-75d9-4452-f65b-8cd4222c49aa"
      },
      "execution_count": null,
      "outputs": [
        {
          "output_type": "display_data",
          "data": {
            "text/plain": [
              "<Figure size 640x480 with 1 Axes>"
            ],
            "image/png": "[encoded data removed]"
          },
          "metadata": {}
        }
      ]
    },
    {
      "cell_type": "markdown",
      "source": [
        "**THREE LEARNING ALGORITHMS**"
      ],
      "metadata": {
        "id": "jRQlTy3IrmWj"
      }
    },
    {
      "cell_type": "markdown",
      "source": [
        "**Logistic regression**"
      ],
      "metadata": {
        "id": "OVx-zTqfrYSi"
      }
    },
    {
      "cell_type": "code",
      "source": [
        "# split data train 70 % and test 30 %\n",
        "\n",
        "data = df.to_numpy()\n",
        "n = data.shape[1]\n",
        "x = data[:,0:n-1]\n",
        "y = data[:,n-1]\n",
        "x_train,x_test,y_train,y_test = train_test_split(x,y,test_size=0.3,random_state=0)\n",
        "\n",
        "# Once our data is split, we can forget about x_test and y_test until we define our model.\n",
        "#x_train and y_train are the samples we will use to train the model"
      ],
      "metadata": {
        "id": "qPyb8nZrrd4V"
      },
      "execution_count": null,
      "outputs": []
    },
    {
      "cell_type": "code",
      "source": [
        "# let's create a model and train it\n",
        "\n",
        "logisticRegr = LogisticRegression(C=1)"
      ],
      "metadata": {
        "id": "Vqsz0xVZsvrJ"
      },
      "execution_count": null,
      "outputs": []
    },
    {
      "cell_type": "code",
      "source": [
        "#and now let's do the training\n",
        "\n",
        "logisticRegr.fit(x_train,y_train)"
      ],
      "metadata": {
        "colab": {
          "base_uri": "https://localhost:8080/",
          "height": 74
        },
        "id": "V3erdvBssy2t",
        "outputId": "5e8ea506-fc7d-4291-82f0-1e7535b5ce41"
      },
      "execution_count": null,
      "outputs": [
        {
          "output_type": "execute_result",
          "data": {
            "text/plain": [
              "LogisticRegression(C=1)"
            ],
            "text/html": [
              "<style>#sk-container-id-1 {color: black;background-color: white;}#sk-container-id-1 pre{padding: 0;}#sk-container-id-1 div.sk-toggleable {background-color: white;}#sk-container-id-1 label.sk-toggleable__label {cursor: pointer;display: block;width: 100%;margin-bottom: 0;padding: 0.3em;box-sizing: border-box;text-align: center;}#sk-container-id-1 label.sk-toggleable__label-arrow:before {content: \"▸\";float: left;margin-right: 0.25em;color: #696969;}#sk-container-id-1 label.sk-toggleable__label-arrow:hover:before {color: black;}#sk-container-id-1 div.sk-estimator:hover label.sk-toggleable__label-arrow:before {color: black;}#sk-container-id-1 div.sk-toggleable__content {max-height: 0;max-width: 0;overflow: hidden;text-align: left;background-color: #f0f8ff;}#sk-container-id-1 div.sk-toggleable__content pre {margin: 0.2em;color: black;border-radius: 0.25em;background-color: #f0f8ff;}#sk-container-id-1 input.sk-toggleable__control:checked~div.sk-toggleable__content {max-height: 200px;max-width: 100%;overflow: auto;}#sk-container-id-1 input.sk-toggleable__control:checked~label.sk-toggleable__label-arrow:before {content: \"▾\";}#sk-container-id-1 div.sk-estimator input.sk-toggleable__control:checked~label.sk-toggleable__label {background-color: #d4ebff;}#sk-container-id-1 div.sk-label input.sk-toggleable__control:checked~label.sk-toggleable__label {background-color: #d4ebff;}#sk-container-id-1 input.sk-hidden--visually {border: 0;clip: rect(1px 1px 1px 1px);clip: rect(1px, 1px, 1px, 1px);height: 1px;margin: -1px;overflow: hidden;padding: 0;position: absolute;width: 1px;}#sk-container-id-1 div.sk-estimator {font-family: monospace;background-color: #f0f8ff;border: 1px dotted black;border-radius: 0.25em;box-sizing: border-box;margin-bottom: 0.5em;}#sk-container-id-1 div.sk-estimator:hover {background-color: #d4ebff;}#sk-container-id-1 div.sk-parallel-item::after {content: \"\";width: 100%;border-bottom: 1px solid gray;flex-grow: 1;}#sk-container-id-1 div.sk-label:hover label.sk-toggleable__label {background-color: #d4ebff;}#sk-container-id-1 div.sk-serial::before {content: \"\";position: absolute;border-left: 1px solid gray;box-sizing: border-box;top: 0;bottom: 0;left: 50%;z-index: 0;}#sk-container-id-1 div.sk-serial {display: flex;flex-direction: column;align-items: center;background-color: white;padding-right: 0.2em;padding-left: 0.2em;position: relative;}#sk-container-id-1 div.sk-item {position: relative;z-index: 1;}#sk-container-id-1 div.sk-parallel {display: flex;align-items: stretch;justify-content: center;background-color: white;position: relative;}#sk-container-id-1 div.sk-item::before, #sk-container-id-1 div.sk-parallel-item::before {content: \"\";position: absolute;border-left: 1px solid gray;box-sizing: border-box;top: 0;bottom: 0;left: 50%;z-index: -1;}#sk-container-id-1 div.sk-parallel-item {display: flex;flex-direction: column;z-index: 1;position: relative;background-color: white;}#sk-container-id-1 div.sk-parallel-item:first-child::after {align-self: flex-end;width: 50%;}#sk-container-id-1 div.sk-parallel-item:last-child::after {align-self: flex-start;width: 50%;}#sk-container-id-1 div.sk-parallel-item:only-child::after {width: 0;}#sk-container-id-1 div.sk-dashed-wrapped {border: 1px dashed gray;margin: 0 0.4em 0.5em 0.4em;box-sizing: border-box;padding-bottom: 0.4em;background-color: white;}#sk-container-id-1 div.sk-label label {font-family: monospace;font-weight: bold;display: inline-block;line-height: 1.2em;}#sk-container-id-1 div.sk-label-container {text-align: center;}#sk-container-id-1 div.sk-container {/* jupyter's `normalize.less` sets `[hidden] { display: none; }` but bootstrap.min.css set `[hidden] { display: none !important; }` so we also need the `!important` here to be able to override the default hidden behavior on the sphinx rendered scikit-learn.org. See: https://github.com/scikit-learn/scikit-learn/issues/21755 */display: inline-block !important;position: relative;}#sk-container-id-1 div.sk-text-repr-fallback {display: none;}</style><div id=\"sk-container-id-1\" class=\"sk-top-container\"><div class=\"sk-text-repr-fallback\"><pre>LogisticRegression(C=1)</pre><b>In a Jupyter environment, please rerun this cell to show the HTML representation or trust the notebook. <br />On GitHub, the HTML representation is unable to render, please try loading this page with nbviewer.org.</b></div><div class=\"sk-container\" hidden><div class=\"sk-item\"><div class=\"sk-estimator sk-toggleable\"><input class=\"sk-toggleable__control sk-hidden--visually\" id=\"sk-estimator-id-1\" type=\"checkbox\" checked><label for=\"sk-estimator-id-1\" class=\"sk-toggleable__label sk-toggleable__label-arrow\">LogisticRegression</label><div class=\"sk-toggleable__content\"><pre>LogisticRegression(C=1)</pre></div></div></div></div></div>"
            ]
          },
          "metadata": {},
          "execution_count": 30
        }
      ]
    },
    {
      "cell_type": "code",
      "source": [
        "#The model is now trained and ready to make predictions :)\n",
        "y_pred=logisticRegr.predict(x_test)\n",
        "y_pred"
      ],
      "metadata": {
        "colab": {
          "base_uri": "https://localhost:8080/"
        },
        "id": "JdfIU1Ros9sQ",
        "outputId": "d19df852-df49-47ad-ef5e-a721b8d039b1"
      },
      "execution_count": null,
      "outputs": [
        {
          "output_type": "execute_result",
          "data": {
            "text/plain": [
              "array([1., 1., 1., 1., 1., 1., 1., 1., 1., 1., 1., 1., 1., 1., 1., 1., 0.,\n",
              "       1., 1., 1., 1., 0., 1., 1., 1., 1., 1., 1., 1., 1., 0., 0., 1., 0.,\n",
              "       1., 0., 1., 1., 1., 1., 1., 1., 0., 0., 1., 0., 1., 1., 1., 0., 1.,\n",
              "       1., 1., 1., 1., 1., 1., 1., 1., 1., 1., 1., 1., 1., 1., 1., 1., 0.,\n",
              "       1., 1., 1., 1., 1., 1., 1., 1., 1., 1., 0., 1., 1., 1., 1., 1., 1.,\n",
              "       1., 1., 1., 1., 1., 1., 1., 1., 1., 1., 1., 1., 1., 0., 1., 1., 1.,\n",
              "       1., 0., 1., 1., 1., 1., 0., 0., 1., 1., 1., 1., 0., 1., 1., 1., 1.])"
            ]
          },
          "metadata": {},
          "execution_count": 31
        }
      ]
    },
    {
      "cell_type": "markdown",
      "source": [
        "**Model Evaluation**"
      ],
      "metadata": {
        "id": "1LFa3Mi5tLDV"
      }
    },
    {
      "cell_type": "code",
      "source": [
        "#let's have a look at the accuracy of the model\n",
        "\n",
        "Sctest=logisticRegr.score(x_test,y_test)\n",
        "Sctrain=logisticRegr.score(x_train,y_train)\n",
        "\n",
        "print('#Accuracy test is: ',Sctest)\n",
        "print('#Accuracy train is: ',Sctrain)\n",
        "\n",
        "\n",
        "f1 = f1_score(y_test, y_pred, average='macro')\n",
        "\n",
        "print('\\n#f1 score is: ',f1)"
      ],
      "metadata": {
        "id": "SQV4jNB8tDL8",
        "colab": {
          "base_uri": "https://localhost:8080/"
        },
        "outputId": "b279a11a-f7c0-40bf-fbeb-06f99ef8a0e6"
      },
      "execution_count": null,
      "outputs": [
        {
          "output_type": "stream",
          "name": "stdout",
          "text": [
            "#Accuracy test is:  0.6386554621848739\n",
            "#Accuracy train is:  0.7463768115942029\n",
            "\n",
            "#f1 score is:  0.5533734834598935\n"
          ]
        }
      ]
    },
    {
      "cell_type": "code",
      "source": [
        "#let's have a look at the accuracy of the model\n",
        "\n",
        "Sctest=logisticRegr.score(x_test,y_test)\n",
        "Sctrain=logisticRegr.score(x_train,y_train)\n",
        "\n",
        "print('Accuracy test is: ',Sctest)\n",
        "print('Accuracy train is: ',Sctrain)"
      ],
      "metadata": {
        "colab": {
          "base_uri": "https://localhost:8080/"
        },
        "id": "TDo_V9lStQQn",
        "outputId": "c7347943-1247-4900-8a38-e0ae6228e362"
      },
      "execution_count": null,
      "outputs": [
        {
          "output_type": "stream",
          "name": "stdout",
          "text": [
            "Accuracy test is:  0.6386554621848739\n",
            "Accuracy train is:  0.7463768115942029\n"
          ]
        }
      ]
    },
    {
      "cell_type": "code",
      "source": [
        "#now, we can get the confusion matrix with confusion_matrix():\n",
        "\n",
        "confusion_matrix(y_test, y_pred)"
      ],
      "metadata": {
        "colab": {
          "base_uri": "https://localhost:8080/"
        },
        "id": "XkxOmqcotUMI",
        "outputId": "49e1a285-a6b8-4586-da0e-0fcdad9a7b10"
      },
      "execution_count": null,
      "outputs": [
        {
          "output_type": "execute_result",
          "data": {
            "text/plain": [
              "array([[12, 38],\n",
              "       [ 5, 64]])"
            ]
          },
          "metadata": {},
          "execution_count": 35
        }
      ]
    },
    {
      "cell_type": "code",
      "source": [
        "#let's visualize the confusion matrix:\n",
        "cm = confusion_matrix(y_test, y_pred)\n",
        "sns.heatmap(cm,annot=True)"
      ],
      "metadata": {
        "colab": {
          "base_uri": "https://localhost:8080/",
          "height": 447
        },
        "id": "bmGS0kY5tXy2",
        "outputId": "abeb85ae-119b-4ccd-98ec-702f852c7d58"
      },
      "execution_count": null,
      "outputs": [
        {
          "output_type": "execute_result",
          "data": {
            "text/plain": [
              "<Axes: >"
            ]
          },
          "metadata": {},
          "execution_count": 36
        },
        {
          "output_type": "display_data",
          "data": {
            "text/plain": [
              "<Figure size 640x480 with 2 Axes>"
            ],
            "image/png": "[encoded data removed]"
          },
          "metadata": {}
        }
      ]
    },
    {
      "cell_type": "code",
      "source": [
        "#import classification_report\n",
        "print(classification_report(y_test, y_pred))"
      ],
      "metadata": {
        "colab": {
          "base_uri": "https://localhost:8080/"
        },
        "id": "_cGYqPYyte3X",
        "outputId": "f97be1c7-4a05-4005-f189-f7fa6e040943"
      },
      "execution_count": null,
      "outputs": [
        {
          "output_type": "stream",
          "name": "stdout",
          "text": [
            "              precision    recall  f1-score   support\n",
            "\n",
            "         0.0       0.71      0.24      0.36        50\n",
            "         1.0       0.63      0.93      0.75        69\n",
            "\n",
            "    accuracy                           0.64       119\n",
            "   macro avg       0.67      0.58      0.55       119\n",
            "weighted avg       0.66      0.64      0.58       119\n",
            "\n"
          ]
        }
      ]
    },
    {
      "cell_type": "code",
      "source": [
        "#ploting the roc_curve\n",
        "\n",
        "fpositif, tpositif, thresholds = roc_curve(y_test, y_pred)\n",
        "plt.plot([0,1],[0,1],'--')\n",
        "plt.plot(fpositif,tpositif, label='LogisticRegr')\n",
        "plt.xlabel('false positif')\n",
        "plt.ylabel('true positif')\n",
        "plt.title('LogisticRegr ROC curve')\n",
        "p=plt.show()"
      ],
      "metadata": {
        "colab": {
          "base_uri": "https://localhost:8080/",
          "height": 472
        },
        "id": "3l9380JQtihr",
        "outputId": "7fa79586-261e-40c1-ca4f-ace4bc53c58a"
      },
      "execution_count": null,
      "outputs": [
        {
          "output_type": "display_data",
          "data": {
            "text/plain": [
              "<Figure size 640x480 with 1 Axes>"
            ],
            "image/png": "[encoded data removed]"
          },
          "metadata": {}
        }
      ]
    },
    {
      "cell_type": "markdown",
      "source": [
        "**Improving Model Accuracy**"
      ],
      "metadata": {
        "id": "Ywfijb5VtpZf"
      }
    },
    {
      "cell_type": "code",
      "source": [
        "max_iteration = 0\n",
        "maxF1 = 0\n",
        "maxAccuracy = 0\n",
        "optimal_state = 0\n",
        "import random\n",
        "for k in range(max_iteration):\n",
        "    print ('Iteration :'+str(k)+', Current accuracy: '+str(maxAccuracy)+ ', Current f1 : '+str(maxF1), end=\"\\r\")\n",
        "    split_state = np.random.randint(1,100000000)-1\n",
        "    x_train,x_test,y_train,y_test = train_test_split(x,y,test_size=0.3,random_state=split_state)\n",
        "    logisticRegr = LogisticRegression(C=1)\n",
        "    logisticRegr.fit(x_train,y_train)\n",
        "    y_pred=logisticRegr.predict(x_test)\n",
        "    f1 = f1_score(y_test, y_pred, average='macro')\n",
        "    accuracy = accuracy_score(y_test, y_pred)*100\n",
        "\n",
        "    if (accuracy>maxAccuracy and f1>maxF1):\n",
        "        maxF1 = f1\n",
        "        maxAccuracy = accuracy\n",
        "        optimal_state = split_state\n",
        "\n",
        "\n",
        "optimal_state = 85491961\n",
        "x_train,x_test,y_train,y_test = train_test_split(x,y,test_size=0.3,random_state=optimal_state)\n",
        "logisticRegr = LogisticRegression(C=1)\n",
        "logisticRegr.fit(x_train,y_train)\n",
        "y_pred=logisticRegr.predict(x_test)\n",
        "f1 = f1_score(y_test, y_pred, average='macro')\n",
        "accuracy = accuracy_score(y_test, y_pred)*100\n",
        "print('\\n\\n\\n*Accuracy is: '+str(accuracy)+'\\n*f1 score is: ',f1)\n",
        "\n",
        "yt_lg,yp_lg = y_test,y_pred\n",
        "#ploting the roc_curve\n",
        "\n",
        "print ( '\\n\\n *the ROC curve: ')\n",
        "\n",
        "fpositif, tpositif, thresholds = roc_curve(y_test, y_pred)\n",
        "plt.plot([0,1],[0,1],'--')\n",
        "plt.plot(fpositif,tpositif, label='LogisticRegr')\n",
        "plt.xlabel('false positif')\n",
        "plt.ylabel('true positif')\n",
        "plt.title('LogisticRegr ROC curve')\n",
        "p=plt.show()\n",
        "\n",
        "\n",
        "#visualizig the confusion matrix:\n",
        "\n",
        "print (' *the confusion matrix ')\n",
        "\n",
        "cm = confusion_matrix(y_test, y_pred)\n",
        "sns.heatmap(cm,annot=True)\n"
      ],
      "metadata": {
        "colab": {
          "base_uri": "https://localhost:8080/",
          "height": 1000
        },
        "id": "LNypl3nMtkjI",
        "outputId": "3ae9e1aa-ee07-4ff7-96d7-f14617869263"
      },
      "execution_count": null,
      "outputs": [
        {
          "output_type": "stream",
          "name": "stdout",
          "text": [
            "\n",
            "\n",
            "\n",
            "*Accuracy is: 80.67226890756302\n",
            "*f1 score is:  0.7408389357068459\n",
            "\n",
            "\n",
            " *the ROC curve: \n"
          ]
        },
        {
          "output_type": "display_data",
          "data": {
            "text/plain": [
              "<Figure size 640x480 with 1 Axes>"
            ],
            "image/png": "[encoded data removed]"
          },
          "metadata": {}
        },
        {
          "output_type": "stream",
          "name": "stdout",
          "text": [
            " *the confusion matrix \n"
          ]
        },
        {
          "output_type": "execute_result",
          "data": {
            "text/plain": [
              "<Axes: >"
            ]
          },
          "metadata": {},
          "execution_count": 39
        },
        {
          "output_type": "display_data",
          "data": {
            "text/plain": [
              "<Figure size 640x480 with 2 Axes>"
            ],
            "image/png": "[encoded data removed]"
          },
          "metadata": {}
        }
      ]
    },
    {
      "cell_type": "markdown",
      "source": [
        "**CONCLUSION**"
      ],
      "metadata": {
        "id": "lEpPKPlluY7Q"
      }
    },
    {
      "cell_type": "markdown",
      "source": [
        "We notice that we went from an accuracy of 64% to 80.67%. and we got a higher value for F1 score as well ; from 0.55 to 0.74 ."
      ],
      "metadata": {
        "id": "dTNy5fe_ubWG"
      }
    },
    {
      "cell_type": "markdown",
      "source": [
        "**K-Nearest Neighbors [KNN]**"
      ],
      "metadata": {
        "id": "v8GtJfCOuufk"
      }
    },
    {
      "cell_type": "code",
      "source": [
        "#define data\n",
        "y=df.passed\n",
        "target=[\"passed\"]\n",
        "x = df.drop(target,axis = 1 )"
      ],
      "metadata": {
        "id": "eIKIZlghuWkb"
      },
      "execution_count": null,
      "outputs": []
    },
    {
      "cell_type": "code",
      "source": [
        "max_iteration = 0\n",
        "maxF1 = 0\n",
        "maxAccuracy = 0\n",
        "optimal_state = 0\n",
        "for k in range(max_iteration):\n",
        "    print ('Iteration :'+str(k)+', Current accuracy: '+str(maxAccuracy)+ ', Current f1 : '+str(maxF1), end=\"\\r\")\n",
        "    split_state = np.random.randint(1,100000000)-1\n",
        "    x_train,x_test,y_train,y_test = train_test_split(x,y,test_size=0.3,random_state=split_state)\n",
        "    KNN = KNeighborsClassifier()\n",
        "    KNN.fit(x_train,y_train)\n",
        "    y_pred=KNN.predict(x_test)\n",
        "    f1 = f1_score(y_test, y_pred, average='macro')\n",
        "    accuracy = accuracy_score(y_test, y_pred)*100\n",
        "\n",
        "    if (accuracy>maxAccuracy and f1>maxF1):\n",
        "        maxF1 = f1\n",
        "        maxAccuracy = accuracy\n",
        "        optimal_state = split_state\n",
        "\n",
        "optimal_state = 71027464\n",
        "\n",
        "x_train,x_test,y_train,y_test = train_test_split(x,y,test_size=0.3,random_state=optimal_state)\n",
        "KNN= KNeighborsClassifier()\n",
        "KNN.fit(x_train,y_train)\n",
        "y_pred=KNN.predict(x_test)\n",
        "f1 = f1_score(y_test, y_pred, average='macro')\n",
        "accuracy = accuracy_score(y_test, y_pred)*100\n",
        "print('\\n\\n\\n*Accuracy is: '+str(accuracy)+'\\n*f1 score is: ',f1)\n",
        "\n",
        "print ('random_state is ',optimal_state)\n",
        "\n",
        "#ploting the roc_curve\n",
        "print ( '\\n\\n *the ROC curve: ')\n",
        "\n",
        "fpositif, tpositif, thresholds = roc_curve(y_test, y_pred)\n",
        "plt.plot([0,1],[0,1],'--')\n",
        "plt.plot(fpositif,tpositif, label='knn')\n",
        "plt.xlabel('false positif')\n",
        "plt.ylabel('true positif')\n",
        "plt.title('KNN ROC curve')\n",
        "p=plt.show()\n",
        "\n",
        "yt_knn,yp_knn= y_test,y_pred\n",
        "#visualizig the confusion matrix:\n",
        "\n",
        "print (' *the confusion matrix ')\n",
        "\n",
        "cm = confusion_matrix(y_test, y_pred)\n",
        "sns.heatmap(cm,annot=True)\n"
      ],
      "metadata": {
        "colab": {
          "base_uri": "https://localhost:8080/",
          "height": 1000
        },
        "id": "eicTXuopu8PH",
        "outputId": "818b00e0-9bc4-4d46-f8b7-0a4f64ece6f4"
      },
      "execution_count": null,
      "outputs": [
        {
          "output_type": "stream",
          "name": "stdout",
          "text": [
            "\n",
            "\n",
            "\n",
            "*Accuracy is: 78.15126050420169\n",
            "*f1 score is:  0.7102996254681648\n",
            "random_state is  71027464\n",
            "\n",
            "\n",
            " *the ROC curve: \n"
          ]
        },
        {
          "output_type": "display_data",
          "data": {
            "text/plain": [
              "<Figure size 640x480 with 1 Axes>"
            ],
            "image/png": "[encoded data removed]"
          },
          "metadata": {}
        },
        {
          "output_type": "stream",
          "name": "stdout",
          "text": [
            " *the confusion matrix \n"
          ]
        },
        {
          "output_type": "execute_result",
          "data": {
            "text/plain": [
              "<Axes: >"
            ]
          },
          "metadata": {},
          "execution_count": 41
        },
        {
          "output_type": "display_data",
          "data": {
            "text/plain": [
              "<Figure size 640x480 with 2 Axes>"
            ],
            "image/png": "[encoded data removed]"
          },
          "metadata": {}
        }
      ]
    },
    {
      "cell_type": "markdown",
      "source": [
        "**Model Evaluation**"
      ],
      "metadata": {
        "id": "n9UpJP6jvPT7"
      }
    },
    {
      "cell_type": "markdown",
      "source": [
        "We evaluate this model and see the impact of knn_parameters by using a roc curv and a confusion matrix and f1 score. Using this model i got an accuracy of 78% wish is a good accuracy and f1 score is 70%"
      ],
      "metadata": {
        "id": "flUqjngovR34"
      }
    },
    {
      "cell_type": "markdown",
      "source": [
        "**Method - 1: BY VISUALIZATION**"
      ],
      "metadata": {
        "id": "VYAm5eJ0vXyw"
      }
    },
    {
      "cell_type": "code",
      "source": [
        "#Setup arrays to store training and test accuracies\n",
        "neighbors= np.arange(1,20)\n",
        "train_accuracy =np.empty(19)\n",
        "test_accuracy = np.empty(19)\n",
        "\n",
        "for i,k in enumerate(neighbors):\n",
        "    #Setup a knn classifier with k neighbors\n",
        "    knn = KNeighborsClassifier(n_neighbors=k)\n",
        "\n",
        "    #Fit the model\n",
        "    knn.fit(x_train, y_train)\n",
        "\n",
        "    #Compute accuracy on the training set\n",
        "    train_accuracy[i] = knn.score(x_train, y_train)\n",
        "\n",
        "    #Compute accuracy on the test set\n",
        "    test_accuracy[i] = knn.score(x_test, y_test)\n",
        "\n",
        "#  Plotting the curv\n",
        "plt.title('k-NN Varying number of neighbors')\n",
        "plt.plot(neighbors, test_accuracy, label='Testing Accuracy')\n",
        "plt.plot(neighbors, train_accuracy, label='Training accuracy')\n",
        "plt.legend()\n",
        "plt.xlabel('Number of neighbors')\n",
        "plt.ylabel('Accuracy')\n",
        "plt.show()\n"
      ],
      "metadata": {
        "colab": {
          "base_uri": "https://localhost:8080/",
          "height": 472
        },
        "id": "TzOwyJH6vVEl",
        "outputId": "de1071a7-e8ef-4b8d-fb8b-d39a5d0ace75"
      },
      "execution_count": null,
      "outputs": [
        {
          "output_type": "display_data",
          "data": {
            "text/plain": [
              "<Figure size 640x480 with 1 Axes>"
            ],
            "image/png": "[encoded data removed]"
          },
          "metadata": {}
        }
      ]
    },
    {
      "cell_type": "markdown",
      "source": [
        "**Method - 2: USING GRID SEARCH CV**"
      ],
      "metadata": {
        "id": "zVf-ukX2vknr"
      }
    },
    {
      "cell_type": "markdown",
      "source": [
        "**1. Best k for training:**"
      ],
      "metadata": {
        "id": "J6SDsuYOv2yq"
      }
    },
    {
      "cell_type": "code",
      "source": [
        "#In case of classifier like knn the parameter to be tuned is n_neighbors\n",
        "param_grid = {'n_neighbors':np.arange(1,20)}\n",
        "knn = KNeighborsClassifier()\n",
        "knn_cv= GridSearchCV(knn,param_grid,cv=5)\n",
        "knn_cv.fit(x_train,y_train)\n",
        "#best score\\n\",\n",
        "knn_cv.best_score_"
      ],
      "metadata": {
        "colab": {
          "base_uri": "https://localhost:8080/"
        },
        "id": "_YKH8iY6vp8v",
        "outputId": "102ae073-c473-426b-a0ec-3cf33da04bfe"
      },
      "execution_count": null,
      "outputs": [
        {
          "output_type": "execute_result",
          "data": {
            "text/plain": [
              "0.6449350649350649"
            ]
          },
          "metadata": {},
          "execution_count": 43
        }
      ]
    },
    {
      "cell_type": "code",
      "source": [
        "knn_cv.best_params_"
      ],
      "metadata": {
        "colab": {
          "base_uri": "https://localhost:8080/"
        },
        "id": "bS-DtChtwFzN",
        "outputId": "48a83015-a6d1-49cc-d7ff-ae8d75d15fe9"
      },
      "execution_count": null,
      "outputs": [
        {
          "output_type": "execute_result",
          "data": {
            "text/plain": [
              "{'n_neighbors': 19}"
            ]
          },
          "metadata": {},
          "execution_count": 44
        }
      ]
    },
    {
      "cell_type": "markdown",
      "source": [
        "**2. Best k for testing:**"
      ],
      "metadata": {
        "id": "xAri9OJjwBQl"
      }
    },
    {
      "cell_type": "code",
      "source": [
        "param_grid = {'n_neighbors':np.arange(1,20)}\n",
        "knn = KNeighborsClassifier()\n",
        "knn_cv= GridSearchCV(knn,param_grid,cv=5)\n",
        "knn_cv.fit(x_test,y_test)\n",
        "#best score\\n\",\n",
        "knn_cv.best_score_"
      ],
      "metadata": {
        "colab": {
          "base_uri": "https://localhost:8080/"
        },
        "id": "B-NiBe6zwNTy",
        "outputId": "2334d7de-c0f9-4228-b450-dc8db9301d21"
      },
      "execution_count": null,
      "outputs": [
        {
          "output_type": "execute_result",
          "data": {
            "text/plain": [
              "0.7728260869565217"
            ]
          },
          "metadata": {},
          "execution_count": 45
        }
      ]
    },
    {
      "cell_type": "code",
      "source": [
        "knn_cv.best_params_"
      ],
      "metadata": {
        "colab": {
          "base_uri": "https://localhost:8080/"
        },
        "id": "AlXdE_POwQnq",
        "outputId": "f2e1b4ae-f665-406b-a25c-94702a5bc501"
      },
      "execution_count": null,
      "outputs": [
        {
          "output_type": "execute_result",
          "data": {
            "text/plain": [
              "{'n_neighbors': 13}"
            ]
          },
          "metadata": {},
          "execution_count": 46
        }
      ]
    },
    {
      "cell_type": "markdown",
      "source": [
        "**3. Best k for all the dataset:**"
      ],
      "metadata": {
        "id": "kn_NgVa1wWd4"
      }
    },
    {
      "cell_type": "code",
      "source": [
        "param_grid = {'n_neighbors':np.arange(1,20)}\n",
        "knn = KNeighborsClassifier()\n",
        "knn_cv= GridSearchCV(knn,param_grid,cv=5)\n",
        "knn_cv.fit(x,y)\n",
        "#best score\\n\",\n",
        "knn_cv.best_score_"
      ],
      "metadata": {
        "colab": {
          "base_uri": "https://localhost:8080/"
        },
        "id": "arIXPB9xwaWW",
        "outputId": "a0df8581-f5ae-46ee-e9ea-395d1eacbb86"
      },
      "execution_count": null,
      "outputs": [
        {
          "output_type": "execute_result",
          "data": {
            "text/plain": [
              "0.6734177215189873"
            ]
          },
          "metadata": {},
          "execution_count": 47
        }
      ]
    },
    {
      "cell_type": "code",
      "source": [
        "knn_cv.best_params_"
      ],
      "metadata": {
        "colab": {
          "base_uri": "https://localhost:8080/"
        },
        "id": "3zXErglJweA9",
        "outputId": "031b52c0-8d49-4bfb-c41b-369d8a2e5802"
      },
      "execution_count": null,
      "outputs": [
        {
          "output_type": "execute_result",
          "data": {
            "text/plain": [
              "{'n_neighbors': 7}"
            ]
          },
          "metadata": {},
          "execution_count": 33
        }
      ]
    },
    {
      "cell_type": "markdown",
      "source": [
        "**To conclude the best k for:**\n",
        "\n",
        "1)training is :19\n",
        "\n",
        "2)testing is :13\n",
        "\n",
        "3)all the dataset:7\n",
        "\n",
        "-----------------------------we had 2 choices k=7 and k=19 (choosing odd number for binary classification)-----------------------------------------------"
      ],
      "metadata": {
        "id": "xj1UiQq3wkx3"
      }
    },
    {
      "cell_type": "markdown",
      "source": [
        "**Final model implementation**"
      ],
      "metadata": {
        "id": "qCzeylw7wx8R"
      }
    },
    {
      "cell_type": "code",
      "source": [
        "max_iteration = 0\n",
        "maxF1 = 0\n",
        "maxAccuracy = 0\n",
        "optimal_state = 0\n",
        "f1 = 0\n",
        "accuracy = 0\n",
        "True60 = False\n",
        "for k in range(max_iteration):\n",
        "    print ('Iteration :'+str(k)+', Current accuracy: '+str(maxAccuracy)+ ', Current f1 : '+str(maxF1), end=\"\\r\")\n",
        "    split_state = np.random.randint(1,100000000)-1\n",
        "    x_train,x_test,y_train,y_test = train_test_split(x,y,test_size=0.3,random_state=split_state)\n",
        "    KNN = KNeighborsClassifier(n_neighbors=7,metric='chebyshev')\n",
        "    KNN.fit(x_train,y_train)\n",
        "    y_pred=KNN.predict(x_test)\n",
        "    f1 = f1_score(y_test, y_pred, average='macro')\n",
        "    accuracy = accuracy_score(y_test, y_pred)*100\n",
        "\n",
        "    if accuracy>maxAccuracy and f1>=0.5:\n",
        "        maxF1 = f1\n",
        "        maxAccuracy = accuracy\n",
        "        optimal_state = split_state\n",
        "        if maxAccuracy>79:\n",
        "            break\n",
        "\n",
        "optimal_state = 29300362\n",
        "x_train,x_test,y_train,y_test = train_test_split(x,y,test_size=0.3,random_state=optimal_state)\n",
        "KNN_f= KNeighborsClassifier(n_neighbors=7,metric='chebyshev')\n",
        "KNN_f.fit(x_train,y_train)\n",
        "y_pred=KNN_f.predict(x_test)\n",
        "f1 = f1_score(y_test, y_pred, average='macro')\n",
        "accuracy = accuracy_score(y_test, y_pred)*100\n",
        "print('\\n\\n\\n*Accuracy is: '+str(accuracy)+'\\n*f1 score is: ',f1)\n",
        "\n",
        "print ('random_state is ',optimal_state)\n",
        "\n",
        "yt_knn,yp_knn= y_test,y_pred"
      ],
      "metadata": {
        "colab": {
          "base_uri": "https://localhost:8080/"
        },
        "id": "zV25TYvEwxlv",
        "outputId": "6f164682-06dd-49ad-f6d6-fbd578de8593"
      },
      "execution_count": null,
      "outputs": [
        {
          "output_type": "stream",
          "name": "stdout",
          "text": [
            "\n",
            "\n",
            "\n",
            "*Accuracy is: 78.15126050420169\n",
            "*f1 score is:  0.4386792452830189\n",
            "random_state is  29300362\n"
          ]
        }
      ]
    },
    {
      "cell_type": "markdown",
      "source": [
        "**To evaluate our model we are going to:**\n",
        "\n",
        "*   Use heatmap (matrice de confusion )\n",
        "*   Use the precision recall and F1 score for each class\n",
        "*   Plotting the roc curve"
      ],
      "metadata": {
        "id": "lLlwxzLkxMjM"
      }
    },
    {
      "cell_type": "markdown",
      "source": [
        "**1. Confusion Matrix**"
      ],
      "metadata": {
        "id": "Max-yjpzxiZx"
      }
    },
    {
      "cell_type": "code",
      "source": [
        "ac = accuracy_score(yt_knn,yp_knn)\n",
        "print('Accuracy is: ',ac)\n",
        "cm= confusion_matrix(yt_knn,yp_knn)\n",
        "sns.heatmap(cm,annot=True)\n",
        "yt_knn,yp_knn = y_test,y_pred"
      ],
      "metadata": {
        "id": "7SNebwEAxeVr",
        "colab": {
          "base_uri": "https://localhost:8080/",
          "height": 447
        },
        "outputId": "4aa44a8e-e569-4b9d-bed5-1dd86f2a1d81"
      },
      "execution_count": null,
      "outputs": [
        {
          "output_type": "stream",
          "name": "stdout",
          "text": [
            "Accuracy is:  0.7815126050420168\n"
          ]
        },
        {
          "output_type": "display_data",
          "data": {
            "text/plain": [
              "<Figure size 640x480 with 2 Axes>"
            ],
            "image/png": "[encoded data removed]"
          },
          "metadata": {}
        }
      ]
    },
    {
      "cell_type": "markdown",
      "source": [
        "**2. Classification Report**"
      ],
      "metadata": {
        "id": "8KbLtuUyxp6l"
      }
    },
    {
      "cell_type": "code",
      "source": [
        "print(classification_report(y_test,y_pred))"
      ],
      "metadata": {
        "colab": {
          "base_uri": "https://localhost:8080/"
        },
        "id": "ljIo-fShxtNc",
        "outputId": "c1e84f07-6ea5-4776-ad40-94190db12ad9"
      },
      "execution_count": null,
      "outputs": [
        {
          "output_type": "stream",
          "name": "stdout",
          "text": [
            "              precision    recall  f1-score   support\n",
            "\n",
            "         0.0       0.00      0.00      0.00        26\n",
            "         1.0       0.78      1.00      0.88        93\n",
            "\n",
            "    accuracy                           0.78       119\n",
            "   macro avg       0.39      0.50      0.44       119\n",
            "weighted avg       0.61      0.78      0.69       119\n",
            "\n"
          ]
        },
        {
          "output_type": "stream",
          "name": "stderr",
          "text": [
            "/usr/local/lib/python3.10/dist-packages/sklearn/metrics/_classification.py:1344: UndefinedMetricWarning: Precision and F-score are ill-defined and being set to 0.0 in labels with no predicted samples. Use `zero_division` parameter to control this behavior.\n",
            "  _warn_prf(average, modifier, msg_start, len(result))\n",
            "/usr/local/lib/python3.10/dist-packages/sklearn/metrics/_classification.py:1344: UndefinedMetricWarning: Precision and F-score are ill-defined and being set to 0.0 in labels with no predicted samples. Use `zero_division` parameter to control this behavior.\n",
            "  _warn_prf(average, modifier, msg_start, len(result))\n",
            "/usr/local/lib/python3.10/dist-packages/sklearn/metrics/_classification.py:1344: UndefinedMetricWarning: Precision and F-score are ill-defined and being set to 0.0 in labels with no predicted samples. Use `zero_division` parameter to control this behavior.\n",
            "  _warn_prf(average, modifier, msg_start, len(result))\n"
          ]
        }
      ]
    },
    {
      "cell_type": "markdown",
      "source": [
        "**3. Plotting ROC Curve**"
      ],
      "metadata": {
        "id": "qLeTdoL5x4Q-"
      }
    },
    {
      "cell_type": "code",
      "source": [
        "#ploting the roc_curve\n",
        "\n",
        "print ( ' the ROC curve: ')\n",
        "\n",
        "fpositif, tpositif, thresholds = roc_curve(y_test, y_pred)\n",
        "plt.plot([0,1],[0,1],'--')\n",
        "plt.plot(fpositif,tpositif, label='final knn model')\n",
        "plt.xlabel('false positif')\n",
        "plt.ylabel('true positif')\n",
        "plt.title('knn_f ROC curve')\n",
        "p=plt.show()"
      ],
      "metadata": {
        "colab": {
          "base_uri": "https://localhost:8080/",
          "height": 489
        },
        "id": "9P8bbjyix0FA",
        "outputId": "2e99d1f7-e9e2-4c26-e826-635e201c00dc"
      },
      "execution_count": null,
      "outputs": [
        {
          "output_type": "stream",
          "name": "stdout",
          "text": [
            " the ROC curve: \n"
          ]
        },
        {
          "output_type": "display_data",
          "data": {
            "text/plain": [
              "<Figure size 640x480 with 1 Axes>"
            ],
            "image/png": "[encoded data removed]"
          },
          "metadata": {}
        }
      ]
    },
    {
      "cell_type": "markdown",
      "source": [
        "**CONCLUSION**\n",
        "\n",
        "The main goal of this part was to understand the impact of knn_hyper_parameters_tuning. As a first step we implement a model that tune the optimal random_state without specifying knn_parameters, after we evaluate the model and we get an accuracy of 78%,next we search to increase this accuracy by fitting the model with the best parameters for that we search at first for the best k using the gridsearchCV and after we fix the best value of k and search for The best metrics. Finally, we got the best model with k=17 and metrics=chebychev and we got a better accuracy of 79% as we can see the impact of hyper_parameters wasn't so strong the importent parameter is the randome_state."
      ],
      "metadata": {
        "id": "BCNDKJkgyPIu"
      }
    },
    {
      "cell_type": "markdown",
      "source": [
        " **Support vector machine**"
      ],
      "metadata": {
        "id": "fV6T68QiykRl"
      }
    },
    {
      "cell_type": "code",
      "source": [
        "def showResults(accuracy, trainingTime, y_pred,model):\n",
        "\n",
        "    print('------------------------------------------------Results :',model,'-------------------------------------------------')\n",
        "    confusionMatrix = confusion_matrix(y_test, y_pred)\n",
        "    print('\\n The ROC curve is :\\n')\n",
        "    fig, _ = plt.subplots()\n",
        "    fpr,tpr,thresholds=roc_curve(y_test,y_pred)\n",
        "    plt.plot([0, 1],[0, 1],'--')\n",
        "    plt.plot(fpr,tpr,label=model)\n",
        "    plt.xlabel('false positive')\n",
        "    plt.ylabel('false negative')\n",
        "    plt.legend()\n",
        "    fig.suptitle('ROC curve: '+str(model))\n",
        "    plt.show()\n",
        "\n",
        "    print('----------------------------------------------')\n",
        "    print('The model  accuracy:', round(accuracy),'%')\n",
        "    print('----------------------------------------------')\n",
        "    print('The training time is: ',trainingTime)\n",
        "    print('----------------------------------------------')\n",
        "    print('The f1 score is :',round(100*f1_score(y_test, y_pred, average='macro'))/100)\n",
        "    print('----------------------------------------------')\n",
        "    print('The roc_auc_score is :',round(100*roc_auc_score(y_test, y_pred))/100)\n",
        "    print('----------------------------------------------')\n",
        "    print('The confusion matrix is :\\n')\n",
        "    ax = plt.axes()\n",
        "    sns.heatmap(confusionMatrix,annot=True)\n",
        "\n",
        "    # Optimal C\n",
        "def optimal_C_value():\n",
        "    Ci = np.array(( 0.0001,0.001,0.01,0.05,0.1,4,10,40,100))\n",
        "    minError = float('Inf')\n",
        "    optimal_C = float('Inf')\n",
        "\n",
        "    for c in Ci:\n",
        "        clf = SVC(C=c,kernel='linear')\n",
        "        clf.fit(X_train, y_train)\n",
        "        predictions = clf.predict(X_val)\n",
        "        error = np.mean(np.double(predictions != y_val))\n",
        "        if error < minError:\n",
        "            minError = error\n",
        "            optimal_C = c\n",
        "    return optimal_C\n",
        "\n",
        "# Optimal C and the degree of the polynomial\n",
        "def optimal_C_d_values():\n",
        "    Ci = np.array(( 0.0001,0.001,0.01,0.05,0.1,4,10,40,100))\n",
        "    Di = np.array(( 2, 5, 10, 15, 20, 25, 30))\n",
        "    minError = float('Inf')\n",
        "    optimal_C = float('Inf')\n",
        "    optimal_d = float('Inf')\n",
        "\n",
        "    for d in Di:\n",
        "        for c in Ci:\n",
        "            clf = SVC(C=c,kernel='poly', degree=d)\n",
        "            clf.fit(X_train, y_train)\n",
        "            predictions = clf.predict(X_val)\n",
        "            error = np.mean(np.double(predictions != y_val))\n",
        "            if error < minError:\n",
        "                minError = error\n",
        "                optimal_C = c\n",
        "                optimal_d = d\n",
        "    return optimal_C,optimal_d\n",
        "\n",
        "# Optimal C and gamma\n",
        "def optimal_C_gamma_values():\n",
        "    Ci = np.array(( 0.0001,0.001,0.01,0.05,0.1,4,10,40,100))\n",
        "    Gi = np.array(( 0.000001,0.00001,0.01,1,2,3,5,20,70,100,500,1000))\n",
        "    minError = float('Inf')\n",
        "    optimal_C = float('Inf')\n",
        "    optimal_g = float('Inf')\n",
        "\n",
        "    for g in Gi:\n",
        "        for c in Ci:\n",
        "            clf = SVC(C=c,kernel='rbf', gamma=g)\n",
        "            clf.fit(X_train, y_train)\n",
        "            predictions = clf.predict(X_val)\n",
        "            error = np.mean(np.double(predictions != y_val))\n",
        "            if error < minError:\n",
        "                minError = error\n",
        "                optimal_C = c\n",
        "                optimal_g = g\n",
        "    return optimal_C,optimal_g\n",
        "\n",
        "    # Compare the three kernels\n",
        "\n",
        "\n",
        "def compare_kernels():\n",
        "    X_train1,X_val1,X_test1,y_train1,y_val1,y_test1 = split(df,rest_size=0.4,test_size=0.4,randomState=optimal_split_state1)\n",
        "    X_train2,X_val2,X_test2,y_train2,y_val2,y_test2 = split(df,rest_size=0.4,test_size=0.4,randomState=optimal_split_state2)\n",
        "    X_train3,X_val3,X_test3,y_train3,y_val3,y_test3 = split(df,rest_size=0.4,test_size=0.4,randomState=optimal_split_state3)\n",
        "    print('------------------------------------------------ Comparison -----------------------------------------------------')\n",
        "    print('\\n')\n",
        "    f11 = \"{:.2f}\".format(f1_score(y_test1, y_linear, average='macro'))\n",
        "    f22 = \"{:.2f}\".format(f1_score(y_test2, y_poly, average='macro'))\n",
        "    f33 = \"{:.2f}\".format(f1_score(y_test3, y_gauss, average='macro'))\n",
        "    roc1 = \"{:.2f}\".format(roc_auc_score(y_test1, y_linear))\n",
        "    roc2 = \"{:.2f}\".format(roc_auc_score(y_test2, y_poly))\n",
        "    roc3 = \"{:.2f}\".format(roc_auc_score(y_test3, y_gauss))\n",
        "    a1,a2 = confusion_matrix(y_test1, y_linear)[0],confusion_matrix(y_test1, y_linear)[1]\n",
        "    b1,b2 = confusion_matrix(y_test2, y_poly)[0],confusion_matrix(y_test2, y_poly)[1]\n",
        "    c1,c2 = confusion_matrix(y_test3, y_gauss)[0],confusion_matrix(y_test3, y_gauss)[1]\n",
        "    data_rows = [('training time',time1, time2, time3),\n",
        "                 ('','','',''),\n",
        "                  ('accuracy %',linear_accuracy, poly_accuracy, gauss_accuracy),\n",
        "                 ('','','',''),\n",
        "                 ('confusion matrix',a1, b1, c1),\n",
        "                ('',a2,b2,c2),\n",
        "                 ('','','',''),\n",
        "                ('f1 score',f11,f22,f33),\n",
        "                 ('','','',''),\n",
        "                ('roc_auc_score',roc1,roc2,roc3)]\n",
        "    t = Table(rows=data_rows, names=('metric','Linear kernel', 'polynomial kernel', 'gaussian kernel'))\n",
        "    print(t)\n",
        "    print('\\n\\n')\n",
        "    print('The Roc curves :\\n')\n",
        "    y_pred1 = y_linear\n",
        "    y_pred2 = y_poly\n",
        "    y_pred3 = y_gauss\n",
        "    fig, _ = plt.subplots()\n",
        "    fig.suptitle('Comparison of three ROC curves')\n",
        "    fpr,tpr,thresholds=roc_curve(y_test1,y_pred1)\n",
        "    plt.plot([0, 1],[0, 1],'--')\n",
        "    plt.plot(fpr,tpr,label='Linear kernel :'+str(roc1))\n",
        "    plt.xlabel('false positive')\n",
        "    plt.ylabel('false negative')\n",
        "    fpr,tpr,thresholds=roc_curve(y_test2,y_pred2)\n",
        "    plt.plot(fpr,tpr,label='Polynomial kernel :'+str(roc2))\n",
        "    fpr,tpr,thresholds=roc_curve(y_test3,y_pred3)\n",
        "    plt.plot(fpr,tpr,label='Gaussian kernel :'+str(roc3))\n",
        "    plt.legend()\n",
        "    plt.show()\n",
        "\n",
        "    # ------------------------------------------------------------------------------------------------------------------------------\n",
        "# Print results of the choosen kernel\n",
        "\n",
        "def best_kernel(kernel):\n",
        "    X_train1,X_val1,X_test1,y_train1,y_val1,y_test1 = split(df,rest_size=0.4,test_size=0.4,randomState=optimal_split_state1)\n",
        "    X_train2,X_val2,X_test2,y_train2,y_val2,y_test2 = split(df,rest_size=0.4,test_size=0.4,randomState=optimal_split_state2)\n",
        "    X_train3,X_val3,X_test3,y_train3,y_val3,y_test3 = split(df,rest_size=0.4,test_size=0.4,randomState=optimal_split_state3)\n",
        "\n",
        "    time = 0\n",
        "    f1 = 0\n",
        "    accuracy = 0\n",
        "    rc = 0\n",
        "    y = 0\n",
        "    if kernel == 'linear kernel':\n",
        "        time = time1\n",
        "        f1 = \"{:.2f}\".format(f1_score(y_test1, y_linear, average='macro'))\n",
        "        accuracy = round(100*linear_accuracy)/100\n",
        "        rc = round(100*roc_auc_score(y_test1, y_linear))/100\n",
        "        y_test = y_test1\n",
        "        y = y_linear\n",
        "    elif kernel == 'polynomial kernel':\n",
        "        time = time2\n",
        "        f1 = \"{:.2f}\".format(f1_score(y_test2, y_poly, average='macro'))\n",
        "        accuracy = round(100*poly_accuracy)/100\n",
        "        rc = round(100*roc_auc_score(y_test2, y_poly))/100\n",
        "        y_test = y_test2\n",
        "        y = y_poly\n",
        "    else :\n",
        "        time = time3\n",
        "        f1 = \"{:.2f}\".format(f1_score(y_test3, y_gauss, average='macro'))\n",
        "        accuracy = round(100*gauss_accuracy)/100\n",
        "        rc = round(100*roc_auc_score(y_test3, y_gauss))/100\n",
        "        y_test = y_test3\n",
        "        y = y_gauss\n",
        "\n",
        "    # used for comparing three classfiers(knn, logistic regression and svm)\n",
        "    yt_svm,yp_svm = y_test, y\n",
        "\n",
        "    print('The choosen kernel :',kernel)\n",
        "    print('the training :',time)\n",
        "    print('the accuracy :',round(accuracy),'%')\n",
        "    print('the f1 score :',f1)\n",
        "    print('The roc_auc_score is :',rc)\n",
        "    print('----------------------------------------\\nThe ROC curve :')\n",
        "    fig, _ = plt.subplots()\n",
        "    fpr,tpr,thresholds=roc_curve(y_test,y)\n",
        "    plt.plot([0, 1],[0, 1],'--')\n",
        "    plt.plot(fpr,tpr,label=kernel+': '+str(rc))\n",
        "    plt.xlabel('false positive')\n",
        "    plt.ylabel('false negative')\n",
        "    plt.legend()\n",
        "    plt.show()\n",
        "    confusionMatrix = confusion_matrix(y_test, y)\n",
        "    print('----------------------------------------\\nThe confusion matrix is  :')\n",
        "    ax = plt.axes()\n",
        "    sns.heatmap(confusionMatrix,annot=True)\n",
        "    ax.set_title('Confusion matrix of SVM '+str(kernel))\n",
        "    return yt_svm,yp_svm\n",
        "\n",
        "# ------------------------------------------------------------------------------------------------------------------------------\n",
        "# svm factor : factor affecting students performance, later on on this Ipython notebook  we will explain how we will do this\n",
        "\n",
        "\n",
        "# 1) factor as svm coefficients\n",
        "def factors(array, K, max_or_min, df):\n",
        "\n",
        "    n = array.shape[1]\n",
        "    array = array.reshape(n,1)\n",
        "    my_list = array.tolist()\n",
        "\n",
        "    if max_or_min == 'max':\n",
        "        temp = sorted(my_list)[-K:]\n",
        "        res = []\n",
        "        for ele in temp:\n",
        "            res.append(my_list.index(ele))\n",
        "        return(get_factors(res, df))\n",
        "\n",
        "\n",
        "    elif max_or_min == 'min':\n",
        "        temp = sorted(my_list, reverse=True)[-K:]\n",
        "        temp = temp = np.array(temp).reshape(K,1)\n",
        "        res = []\n",
        "        for ele in temp:\n",
        "            if ele<0:\n",
        "                res.append(my_list.index(ele))\n",
        "        return(get_factors(res, df))\n",
        "\n",
        "\n",
        "    else:\n",
        "        return\n",
        "\n",
        "\n",
        "# 2) converts those factors to dataset columns name\n",
        "def get_factors(index, df):\n",
        "    f = []\n",
        "    for i in index:\n",
        "        f.append(df.columns[i])\n",
        "    return f\n",
        "\n",
        "\n",
        "# 3) Convert column names to understandable string\n",
        "\n",
        "columns_name = {'famsize': 'family size', 'Pstatus': \"parent's cohabitation status \", 'Medu': \"mother's education\",\n",
        "                'Fedu': \"father's education\", 'Mjob': \"mother's job\", 'Fjob': \"father's job\",\n",
        "                'reason': 'reason to choose this school ','schoolsup': 'extra educational support', 'famsup': 'family educational support',\n",
        "                'paid': 'extra paid classes within the course subject', 'higher': 'wants to take higher education',\n",
        "                'romantic': 'with a romantic relationship ', 'famrel': 'quality of family relationships', 'goout': 'going out with friends',\n",
        "                'Dalc': 'workday alcohol consumption', 'Walc': 'weekend alcohol consumption'}\n",
        "\n",
        "\n",
        "def column_to_string(fcts,max_or_min):\n",
        "\n",
        "    if max_or_min == 'max':\n",
        "        print('-----------------------------------------------------------------------------------')\n",
        "        print('Factors helping students succeed :')\n",
        "    else:\n",
        "        print('-----------------------------------------------------------------------------------')\n",
        "        print('-----------------------------------------------------------------------------------')\n",
        "        print('Factors leading students to failure')\n",
        "\n",
        "    for fct in fcts:\n",
        "        if fct in columns_name:\n",
        "            print(columns_name[fct])\n",
        "        else:\n",
        "            print(fct)\n",
        "\n",
        "\n",
        "# ------------------------------------------------------------------------------------------------------------------------------\n",
        "# Splitting the data for SVM\n",
        "# Here We will split data into test set, cross validation (X_val, y_val) set and training set\n",
        "# The cross validation (X_val, y_val) is used for choosing the optimal value for svm parameters C, degree and gamma\n",
        "\n",
        "def split(df,rest_size,test_size,randomState):\n",
        "    data = df.to_numpy()\n",
        "    n = data.shape[1]\n",
        "    x = data[:,0:n-1]\n",
        "    y = data[:,n-1]\n",
        "    if(randomState):\n",
        "        X_train,X_rest,y_train,y_rest = train_test_split(x,y,test_size=rest_size,random_state=randomState)\n",
        "        X_val,X_test,y_val,y_test = train_test_split(X_rest,y_rest,test_size=test_size,random_state=randomState)\n",
        "    else:\n",
        "        X_train,X_rest,y_train,y_rest = train_test_split(x,y,test_size=rest_size,random_state=0)\n",
        "        X_val,X_test,y_val,y_test = train_test_split(X_rest,y_rest,test_size=test_size,random_state=0)\n",
        "\n",
        "    return X_train,X_val,X_test,y_train,y_val,y_test\n",
        "# We will use the three different svm classifier kernels\n",
        "# Linear kernel, polynomial kernel and gaussian kernel and we will choose the most accurate"
      ],
      "metadata": {
        "id": "nKZ0WN3CyOg4"
      },
      "execution_count": null,
      "outputs": []
    },
    {
      "cell_type": "markdown",
      "source": [
        "**Model Evaluation**"
      ],
      "metadata": {
        "id": "7N4rhTZ72eNp"
      }
    },
    {
      "cell_type": "markdown",
      "source": [
        "**1. Linear Kernel**"
      ],
      "metadata": {
        "id": "Lz-iXxHw2juz"
      }
    },
    {
      "cell_type": "code",
      "source": [
        "optimal_split_state1 = 0\n",
        "maxAccuracy = 0\n",
        "maxF1 = 0\n",
        "\n",
        "# We already tune parameters, we do not need to loop over all the hyperparamters again,\n",
        "# if you want to do so just set max_iteration to 2000 for example\n",
        "# and remove the line 'optimal_split_state = 388628375' at the bottom of this cell.\n",
        "\n",
        "max_iteration = 0\n",
        "if max_iteration != 0:\n",
        "    print ('----------------------------------------Hyperparameters tunning starts----------------------------------------\\n\\n')\n",
        "\n",
        "for k in range(max_iteration):\n",
        "    print ('Iteration :'+str(k)+', Current accuracy: '+str(maxAccuracy)+' Current f1 '+str(maxF1), end=\"\\r\")\n",
        "    # Let's get the optimal C value for the linear kernal\n",
        "    split_state = np.random.randint(1,1000000000)-1\n",
        "    X_train,X_val,X_test,y_train,y_val,y_test = split(df,rest_size=0.4,test_size=0.4,randomState=split_state)\n",
        "    optimal_C = optimal_C_value()\n",
        "\n",
        "\n",
        "    # Now let's use the optimal C value\n",
        "    linear_clf = SVC(C=optimal_C,kernel='linear')\n",
        "\n",
        "    # Let's train the model with the optimal C value and calculate the training time\n",
        "    tic = time()\n",
        "    linear_clf.fit(X_train, y_train)\n",
        "    toc = time()\n",
        "    time1 = str(round(1000*(toc-tic))) + \"ms\"\n",
        "    y_linear = linear_clf.predict(X_test)\n",
        "    linear_f1 = f1_score(y_test, y_linear, average='macro')\n",
        "    linear_accuracy = accuracy_score(y_test, y_linear)*100\n",
        "    if linear_accuracy>maxAccuracy and linear_f1>maxF1:\n",
        "        maxAccuracy = linear_accuracy\n",
        "        maxF1 = linear_f1\n",
        "        optimal_split_state1 = split_state\n",
        "    if maxAccuracy>86 and maxF1>80:\n",
        "        break;\n",
        "\n",
        "# We've already tuned our hyperparameters, we will not repeat that again as it takes soo long.\n",
        "# The optimal split state for linear kernel is 388628375\n",
        "# Let's try that split state\n",
        "optimal_split_state1 = 388628375\n",
        "X_train,X_val,X_test,y_train,y_val,y_test = split(df,rest_size=0.4,test_size=0.4,randomState=optimal_split_state1)\n",
        "optimal_C = optimal_C_value()\n",
        "\n",
        "\n",
        "# Now let's use the optimal C value\n",
        "linear_clf = SVC(C=optimal_C,kernel='linear')\n",
        "\n",
        "# Let's train the model with the optimal C value and calculate the training time\n",
        "tic = time()\n",
        "linear_clf.fit(X_train, y_train)\n",
        "toc = time()\n",
        "time1 = str(round(1000*(toc-tic))) + \"ms\"\n",
        "y_linear = linear_clf.predict(X_test)\n",
        "linear_accuracy = accuracy_score(y_test, y_linear)*100\n",
        "if max_iteration != 0:\n",
        "    print('\\n\\n\\n                            ---------------------------process ended'\\\n",
        "         '------------------------------------                            \\n\\n\\n')\n",
        "\n",
        "# Let's show the resuls\n",
        "showResults(linear_accuracy, time1, y_linear,'SVM linear kernel')"
      ],
      "metadata": {
        "colab": {
          "base_uri": "https://localhost:8080/",
          "height": 1000
        },
        "id": "78r0swzu2heo",
        "outputId": "f06c7328-4b5e-432d-bf6e-21c689a0b94b"
      },
      "execution_count": null,
      "outputs": [
        {
          "output_type": "stream",
          "name": "stdout",
          "text": [
            "------------------------------------------------Results : SVM linear kernel -------------------------------------------------\n",
            "\n",
            " The ROC curve is :\n",
            "\n"
          ]
        },
        {
          "output_type": "display_data",
          "data": {
            "text/plain": [
              "<Figure size 640x480 with 1 Axes>"
            ],
            "image/png": "[encoded data removed]"
          },
          "metadata": {}
        },
        {
          "output_type": "stream",
          "name": "stdout",
          "text": [
            "----------------------------------------------\n",
            "The model  accuracy: 84 %\n",
            "----------------------------------------------\n",
            "The training time is:  11ms\n",
            "----------------------------------------------\n",
            "The f1 score is : 0.82\n",
            "----------------------------------------------\n",
            "The roc_auc_score is : 0.8\n",
            "----------------------------------------------\n",
            "The confusion matrix is :\n",
            "\n"
          ]
        },
        {
          "output_type": "display_data",
          "data": {
            "text/plain": [
              "<Figure size 640x480 with 2 Axes>"
            ],
            "image/png": "[encoded data removed]"
          },
          "metadata": {}
        }
      ]
    },
    {
      "cell_type": "code",
      "source": [
        "optimal_split_state2 = 0\n",
        "maxAccuracy = 0\n",
        "maxF1 = 0\n",
        "\n",
        "\n",
        "# We already tune parameters, we do not need to loop over all the hyperparamters again,\n",
        "# if you want to do so just set max_iteration to 500 for example\n",
        "# and remove the line 'optimal_split_state2 = 7070621' at the bottom of this cell.\n",
        "\n",
        "max_iteration = 0\n",
        "if max_iteration != 0:\n",
        "    print ('----------------------------------------Hyperparameters tunning starts----------------------------------------\\n\\n')\n",
        "for k in range(max_iteration):\n",
        "    print ('Iteration :'+str(k)+', Current accuracy: '+str(maxAccuracy)+', Current f1 '+str(maxF1), end=\"\\r\")\n",
        "\n",
        "    split_state = np.random.randint(1,100000000)-1\n",
        "    X_train,X_val,X_test,y_train,y_val,y_test = split(df,rest_size=0.4,test_size=0.4,randomState=split_state)\n",
        "\n",
        "    # Let's get the optimal C and the degree value for the polynomial kernal\n",
        "    optimal_C, optimal_d = optimal_C_d_values()\n",
        "\n",
        "    # Now let's use the optimal c value and the optimal degree value\n",
        "    poly_clf = SVC(C=optimal_C,kernel='poly', degree=optimal_d)\n",
        "\n",
        "    # Let's train the model with the optimal C value\n",
        "    poly_clf.fit(X_train, y_train)\n",
        "    y_poly = poly_clf.predict(X_test)\n",
        "    poly_f1 = f1_score(y_test, y_poly, average='macro')\n",
        "    poly_accuracy = accuracy_score(y_test, y_poly)*100\n",
        "\n",
        "    if poly_accuracy>maxAccuracy and poly_f1>maxF1:\n",
        "        maxAccuracy = poly_accuracy\n",
        "        maxF1 = poly_f1\n",
        "        optimal_split_state2 = split_state\n",
        "\n",
        "# We've already tuned our hyperparameters, we will not repeat that again as it takes soo long.\n",
        "# The optimal split state for polynomial kernel is 7070621\n",
        "# Let's try that split state\n",
        "optimal_split_state2 = 7070621\n",
        "\n",
        "X_train,X_val,X_test,y_train,y_val,y_test = split(df,rest_size=0.4,test_size=0.4,randomState=optimal_split_state2)\n",
        "\n",
        "optimal_C, optimal_d = optimal_C_d_values()\n",
        "\n",
        "\n",
        "# Now let's use the optimal C value\n",
        "poly_clf = SVC(C=optimal_C,kernel='poly', degree=optimal_d)\n",
        "\n",
        "# Let's train the model and calculate the training time\n",
        "tic = time()\n",
        "poly_clf.fit(X_train, y_train)\n",
        "toc = time()\n",
        "time2 = str(round(1000*(toc-tic))) + \"ms\"\n",
        "y_poly = poly_clf.predict(X_test)\n",
        "poly_accuracy = accuracy_score(y_test, y_poly)*100\n",
        "if max_iteration != 0:\n",
        "    print('\\n\\n\\n                            ---------------------------process ended'\\\n",
        "         '------------------------------------                            \\n\\n\\n')\n",
        "\n",
        "# Let's show the resuls\n",
        "showResults(poly_accuracy, time2, y_poly,'SVM polynomial kernel')"
      ],
      "metadata": {
        "colab": {
          "base_uri": "https://localhost:8080/",
          "height": 1000
        },
        "id": "ktrasMmc3_6K",
        "outputId": "450cf1f0-bc9e-4dad-bfa9-323bd1d6f752"
      },
      "execution_count": null,
      "outputs": [
        {
          "output_type": "stream",
          "name": "stdout",
          "text": [
            "------------------------------------------------Results : SVM polynomial kernel -------------------------------------------------\n",
            "\n",
            " The ROC curve is :\n",
            "\n"
          ]
        },
        {
          "output_type": "display_data",
          "data": {
            "text/plain": [
              "<Figure size 640x480 with 1 Axes>"
            ],
            "image/png": "[encoded data removed]"
          },
          "metadata": {}
        },
        {
          "output_type": "stream",
          "name": "stdout",
          "text": [
            "----------------------------------------------\n",
            "The model  accuracy: 78 %\n",
            "----------------------------------------------\n",
            "The training time is:  13ms\n",
            "----------------------------------------------\n",
            "The f1 score is : 0.74\n",
            "----------------------------------------------\n",
            "The roc_auc_score is : 0.73\n",
            "----------------------------------------------\n",
            "The confusion matrix is :\n",
            "\n"
          ]
        },
        {
          "output_type": "display_data",
          "data": {
            "text/plain": [
              "<Figure size 640x480 with 2 Axes>"
            ],
            "image/png": "[encoded data removed]"
          },
          "metadata": {}
        }
      ]
    },
    {
      "cell_type": "markdown",
      "source": [
        "**3. Gaussian Kernel**"
      ],
      "metadata": {
        "id": "C89evqJb6h7L"
      }
    },
    {
      "cell_type": "code",
      "source": [
        "###################################################### Gaussian kernel ######################################################\n",
        "optimal_split_state3 = 0\n",
        "maxAccuracy = 0\n",
        "maxF1 = 0\n",
        "\n",
        "max_iteration = 0\n",
        "if max_iteration != 0:\n",
        "    print ('----------------------------------------------Hyperparameters tunning starts'\\\n",
        "          '--------------------------------------------\\n\\n')\n",
        "for k in range(max_iteration):\n",
        "    print ('Iteration :'+str(k)+', Current accuracy: '+str(maxAccuracy)+', Current f1 '+str(maxF1), end=\"\\r\")\n",
        "\n",
        "    split_state = np.random.randint(1,100000000)-1\n",
        "    X_train,X_val,X_test,y_train,y_val,y_test = split(df,rest_size=0.4,test_size=0.4,randomState=split_state)\n",
        "\n",
        "    # Let's get the optimal C and the degree value for the polynomial kernal\n",
        "    optimal_C, optimal_gamma = optimal_C_gamma_values()\n",
        "\n",
        "    # Now let's use the optimal c value and the optimal degree value\n",
        "    gauss_clf = SVC(C=optimal_C,kernel='rbf',gamma=optimal_gamma)\n",
        "\n",
        "    # Let's train the model with the optimal C value\n",
        "    gauss_clf.fit(X_train, y_train)\n",
        "    y_gauss = gauss_clf.predict(X_test)\n",
        "    gauss_f1 = f1_score(y_test, y_gauss, average='macro')\n",
        "    gauss_accuracy = accuracy_score(y_test, y_gauss)*100\n",
        "\n",
        "    if gauss_accuracy>maxAccuracy and gauss_f1>maxF1:\n",
        "        maxAccuracy = gauss_accuracy\n",
        "        maxF1 = gauss_f1\n",
        "        optimal_split_state3 = split_state\n",
        "\n",
        "# We've already tuned our hyperparameters, we will not repeat that again as it takes soo long.\n",
        "# The optimal split state for polynomial kernel is 93895097\n",
        "# Let's try that split state\n",
        "optimal_split_state3 = 93895097\n",
        "\n",
        "X_train,X_val,X_test,y_train,y_val,y_test = split(df,rest_size=0.4,test_size=0.4,randomState=optimal_split_state3)\n",
        "\n",
        "optimal_C, optimal_gamma = optimal_C_gamma_values()\n",
        "\n",
        "\n",
        "# Now let's use the optimal C value\n",
        "gauss_clf = SVC(C=optimal_C,kernel='rbf',gamma=optimal_gamma)\n",
        "\n",
        "# Let's train the model and calculate the training time\n",
        "tic = time()\n",
        "gauss_clf.fit(X_train, y_train)\n",
        "toc = time()\n",
        "time3 = str(round(1000*(toc-tic))) + \"ms\"\n",
        "y_gauss = gauss_clf.predict(X_test)\n",
        "gauss_accuracy = (accuracy_score(y_test, y_gauss)*100)\n",
        "\n",
        "if max_iteration != 0:\n",
        "    print('\\n\\n\\n                            ---------------------------process ended'\\\n",
        "         '------------------------------------                            \\n\\n\\n')\n",
        "\n",
        "# Let's show the resuls\n",
        "showResults(gauss_accuracy, time3, y_gauss,'SVM gaussian kernel')"
      ],
      "metadata": {
        "colab": {
          "base_uri": "https://localhost:8080/",
          "height": 1000
        },
        "id": "2Vlx8cv96oS0",
        "outputId": "bb5e4154-4453-4a81-a8be-f820134f203b"
      },
      "execution_count": null,
      "outputs": [
        {
          "output_type": "stream",
          "name": "stdout",
          "text": [
            "------------------------------------------------Results : SVM gaussian kernel -------------------------------------------------\n",
            "\n",
            " The ROC curve is :\n",
            "\n"
          ]
        },
        {
          "output_type": "display_data",
          "data": {
            "text/plain": [
              "<Figure size 640x480 with 1 Axes>"
            ],
            "image/png": "[encoded data removed]"
          },
          "metadata": {}
        },
        {
          "output_type": "stream",
          "name": "stdout",
          "text": [
            "----------------------------------------------\n",
            "The model  accuracy: 83 %\n",
            "----------------------------------------------\n",
            "The training time is:  4ms\n",
            "----------------------------------------------\n",
            "The f1 score is : 0.77\n",
            "----------------------------------------------\n",
            "The roc_auc_score is : 0.74\n",
            "----------------------------------------------\n",
            "The confusion matrix is :\n",
            "\n"
          ]
        },
        {
          "output_type": "display_data",
          "data": {
            "text/plain": [
              "<Figure size 640x480 with 2 Axes>"
            ],
            "image/png": "[encoded data removed]"
          },
          "metadata": {}
        }
      ]
    },
    {
      "cell_type": "markdown",
      "source": [
        "**Comparision of 3 svm kernels**"
      ],
      "metadata": {
        "id": "EwbQSMxv6zhA"
      }
    },
    {
      "cell_type": "code",
      "source": [
        "compare_kernels()"
      ],
      "metadata": {
        "colab": {
          "base_uri": "https://localhost:8080/",
          "height": 844
        },
        "id": "S9oH50Vq65Pt",
        "outputId": "d9f7c2f6-63a2-481f-da91-8649b7328363"
      },
      "execution_count": null,
      "outputs": [
        {
          "output_type": "stream",
          "name": "stdout",
          "text": [
            "------------------------------------------------ Comparison -----------------------------------------------------\n",
            "\n",
            "\n",
            "     metric      Linear kernel polynomial kernel gaussian kernel\n",
            "---------------- ------------- ----------------- ---------------\n",
            "   training time          11ms              13ms             4ms\n",
            "                                                                \n",
            "      accuracy %        84.375            78.125         82.8125\n",
            "                                                                \n",
            "confusion matrix       [15  8]           [12  8]         [10 11]\n",
            "                       [ 2 39]           [ 6 38]         [ 0 43]\n",
            "                                                                \n",
            "        f1 score          0.82              0.74            0.77\n",
            "                                                                \n",
            "   roc_auc_score          0.80              0.73            0.74\n",
            "\n",
            "\n",
            "\n",
            "The Roc curves :\n",
            "\n"
          ]
        },
        {
          "output_type": "display_data",
          "data": {
            "text/plain": [
              "<Figure size 640x480 with 1 Axes>"
            ],
            "image/png": "[encoded data removed]"
          },
          "metadata": {}
        }
      ]
    },
    {
      "cell_type": "markdown",
      "source": [
        "**Most Accurate svm kernel is the Linear Kerrnel**"
      ],
      "metadata": {
        "id": "bwn4cjSE7Azb"
      }
    },
    {
      "cell_type": "code",
      "source": [
        "yt_svm,yp_svm = best_kernel('linear kernel')"
      ],
      "metadata": {
        "colab": {
          "base_uri": "https://localhost:8080/",
          "height": 1000
        },
        "id": "ooxgTS6n7GRv",
        "outputId": "5769009a-4f17-4635-af12-a1161db9b4e0"
      },
      "execution_count": null,
      "outputs": [
        {
          "output_type": "stream",
          "name": "stdout",
          "text": [
            "The choosen kernel : linear kernel\n",
            "the training : 11ms\n",
            "the accuracy : 84 %\n",
            "the f1 score : 0.82\n",
            "The roc_auc_score is : 0.8\n",
            "----------------------------------------\n",
            "The ROC curve :\n"
          ]
        },
        {
          "output_type": "display_data",
          "data": {
            "text/plain": [
              "<Figure size 640x480 with 1 Axes>"
            ],
            "image/png": "[encoded data removed]"
          },
          "metadata": {}
        },
        {
          "output_type": "stream",
          "name": "stdout",
          "text": [
            "----------------------------------------\n",
            "The confusion matrix is  :\n"
          ]
        },
        {
          "output_type": "display_data",
          "data": {
            "text/plain": [
              "<Figure size 640x480 with 2 Axes>"
            ],
            "image/png": "[encoded data removed]"
          },
          "metadata": {}
        }
      ]
    },
    {
      "cell_type": "markdown",
      "source": [
        "**Comparison of the three algorithms**"
      ],
      "metadata": {
        "id": "CX6C87AR7PdY"
      }
    },
    {
      "cell_type": "code",
      "source": [
        "# Function to compare the three classifiers (Logistic regression, KNN and SVM) performances :\n",
        "\n",
        "def compare_lg_knn_svm(yt_knn,yp_knn,yt_lg,yp_lg,yt_svm,yp_svm):\n",
        "    #F1 score\n",
        "    f1_lg = round(f1_score(yt_lg, yp_lg, average='macro')*100)\n",
        "    f1_knn = round(f1_score(yt_knn, yp_knn, average='macro')*100)\n",
        "    f1_svm = round(f1_score(yt_svm, yp_svm, average='macro')*100)\n",
        "\n",
        "    #Accuracy score\n",
        "    acc_lg = round(accuracy_score(yt_lg, yp_lg)*100)\n",
        "    acc_knn = round(accuracy_score(yt_knn, yp_knn)*100)\n",
        "    acc_svm = round(accuracy_score(yt_svm, yp_svm)*100)\n",
        "\n",
        "    #Confusion matrix\n",
        "    conf_lg = confusion_matrix(yt_lg, yp_lg)\n",
        "    conf_knn = confusion_matrix(yt_knn, yp_knn)\n",
        "    conf_svm = confusion_matrix(yt_svm, yp_svm)\n",
        "\n",
        "    #ROC score\n",
        "    roc_c_lg = round(roc_auc_score(yt_lg, yp_lg)*100)\n",
        "    roc_c_knn = round(roc_auc_score(yt_knn, yp_knn)*100)\n",
        "    roc_c_svm = round(roc_auc_score(yt_svm, yp_svm)*100)\n",
        "\n",
        "    #ROC curve thresholds\n",
        "    roc_knn = roc_curve(yt_knn,yp_knn)\n",
        "    roc_lg = roc_curve(yt_lg,yp_lg)\n",
        "    roc_svm = roc_curve(yt_svm,yp_svm)\n",
        "\n",
        "    # Table of metrics\n",
        "    print('-----------------------------Table of metrics--------------------------------------\\n\\n')\n",
        "    data_rows = [('f1 score',f1_lg,f1_knn,f1_svm),\n",
        "                 ('','','',''),\n",
        "                  ('accuracy %',acc_lg,acc_knn,acc_svm),\n",
        "                 ('','','',''),\n",
        "                 ('confusion matrix',conf_lg[0], conf_knn[0], conf_svm[0]),\n",
        "                ('',conf_lg[1], conf_knn[1], conf_svm[1]),\n",
        "                 ('','','',''),\n",
        "                ('ROC score',roc_c_lg,roc_c_knn,roc_c_svm)]\n",
        "    t = Table(rows=data_rows, names=('metric','Logistic regression', 'KNN', 'SVM'))\n",
        "    print(t)\n",
        "\n",
        "    #Plot ROC curve\n",
        "    print('\\n\\n-----------------------------ROC curves--------------------------------------\\n\\n')\n",
        "    fig, _ = plt.subplots()\n",
        "    fig.suptitle('Comparison of three ROC curves')\n",
        "    fpr,tpr,thresholds=roc_lg\n",
        "    plt.plot([0, 1],[0, 1],'--')\n",
        "    plt.plot(fpr,tpr,label='Logistic regression :'+str(roc_c_lg))\n",
        "    plt.xlabel('false positive')\n",
        "    plt.ylabel('false negative')\n",
        "    fpr,tpr,thresholds=roc_knn\n",
        "    plt.plot(fpr,tpr,label='KNN :'+str(roc_c_knn))\n",
        "    fpr,tpr,thresholds=roc_svm\n",
        "    plt.plot(fpr,tpr,label='SVM :'+str(roc_c_svm))\n",
        "    plt.legend()\n",
        "    plt.show()\n",
        "\n",
        "\n",
        "    # Maximum metrics\n",
        "    print('-----------------------------Max of metrics--------------------------------------\\n\\n')\n",
        "    data_rows = [('max f1 score',algo_with_max_metric(f1_lg,f1_knn,f1_svm)),\n",
        "                 ('','','',''),\n",
        "                  ('max accuracy %',algo_with_max_metric(acc_lg,acc_knn,acc_svm)),\n",
        "                 ('','','',''),\n",
        "                ('max ROC score',algo_with_max_metric(roc_c_lg,roc_c_knn,roc_c_svm))]\n",
        "    t = Table(rows=data_rows, names=('metric','Learning algorithm winnig'))\n",
        "    print(t)\n",
        "\n",
        "# Function returning name of winnig algorithm based on a single metric\n",
        "def algo_with_max_metric(a,b,c):\n",
        "    max_metric = max(a,b,c)\n",
        "    if max_metric == a:\n",
        "        return 'Logistic regression'\n",
        "    elif max_metric == b:\n",
        "        return 'KNN'\n",
        "    else:\n",
        "        return 'SVM'"
      ],
      "metadata": {
        "id": "_h_IFXCB7Sup"
      },
      "execution_count": null,
      "outputs": []
    },
    {
      "cell_type": "code",
      "source": [
        "compare_lg_knn_svm(yt_knn,yp_knn,yt_lg,yp_lg,yt_svm,yp_svm)"
      ],
      "metadata": {
        "colab": {
          "base_uri": "https://localhost:8080/",
          "height": 983
        },
        "id": "Dt3q3Qz_7mbo",
        "outputId": "ed1862b4-9bee-47ba-855c-e6435738df6f"
      },
      "execution_count": null,
      "outputs": [
        {
          "output_type": "stream",
          "name": "stdout",
          "text": [
            "-----------------------------Table of metrics--------------------------------------\n",
            "\n",
            "\n",
            "     metric      Logistic regression   KNN     SVM  \n",
            "---------------- ------------------- ------- -------\n",
            "        f1 score                  74      44      82\n",
            "                                                    \n",
            "      accuracy %                  81      78      84\n",
            "                                                    \n",
            "confusion matrix             [18 17] [ 0 26] [15  8]\n",
            "                             [ 6 78] [ 0 93] [ 2 39]\n",
            "                                                    \n",
            "       ROC score                  72      50      80\n",
            "\n",
            "\n",
            "-----------------------------ROC curves--------------------------------------\n",
            "\n",
            "\n"
          ]
        },
        {
          "output_type": "display_data",
          "data": {
            "text/plain": [
              "<Figure size 640x480 with 1 Axes>"
            ],
            "image/png": "[encoded data removed]"
          },
          "metadata": {}
        },
        {
          "output_type": "stream",
          "name": "stdout",
          "text": [
            "-----------------------------Max of metrics--------------------------------------\n",
            "\n",
            "\n",
            "    metric     Learning algorithm winnig\n",
            "-------------- -------------------------\n",
            "  max f1 score                       SVM\n",
            "                                        \n",
            "max accuracy %                       SVM\n",
            "                                        \n",
            " max ROC score                       SVM\n"
          ]
        }
      ]
    },
    {
      "cell_type": "markdown",
      "source": [
        "**Conclusion of selected classifier for our problem :**\n",
        "\n",
        "As you can see the classifier with high metrics is the support vector machine classifier with high accuracy of 84%, the confusion matrix is roughly diagonal which indicate that this classifier is able to label data correctly. If we see other metrics such as f1 score, we managed to have a good value of 0.82 which means that we have low false positives and low false negatives."
      ],
      "metadata": {
        "id": "Ya7nsP277uHv"
      }
    }
  ]
}